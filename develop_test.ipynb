{
 "cells": [
  {
   "cell_type": "code",
   "execution_count": 3,
   "metadata": {
    "ExecuteTime": {
     "end_time": "2021-11-10T06:52:39.239476Z",
     "start_time": "2021-11-10T06:52:39.233500Z"
    }
   },
   "outputs": [
    {
     "name": "stdout",
     "output_type": "stream",
     "text": [
      "['__version__', '__info__', 'Transaction', 'Building']\n",
      "2021.11.\n"
     ]
    }
   ],
   "source": [
    "import PublicDataReader as pdr\n",
    "from config import OpenAPI\n",
    "\n",
    "print(pdr.__all__)\n",
    "print(pdr.__version__)"
   ]
  },
  {
   "cell_type": "code",
   "execution_count": 4,
   "metadata": {
    "ExecuteTime": {
     "end_time": "2021-11-10T06:52:39.957204Z",
     "start_time": "2021-11-10T06:52:39.878721Z"
    }
   },
   "outputs": [
    {
     "data": {
      "text/html": [
       "<div>\n",
       "<style scoped>\n",
       "    .dataframe tbody tr th:only-of-type {\n",
       "        vertical-align: middle;\n",
       "    }\n",
       "\n",
       "    .dataframe tbody tr th {\n",
       "        vertical-align: top;\n",
       "    }\n",
       "\n",
       "    .dataframe thead th {\n",
       "        text-align: right;\n",
       "    }\n",
       "</style>\n",
       "<table border=\"1\" class=\"dataframe\">\n",
       "  <thead>\n",
       "    <tr style=\"text-align: right;\">\n",
       "      <th></th>\n",
       "      <th>시도코드</th>\n",
       "      <th>시도명</th>\n",
       "      <th>시군구코드</th>\n",
       "      <th>시군구명</th>\n",
       "      <th>법정동코드</th>\n",
       "      <th>읍면동명</th>\n",
       "      <th>동리명</th>\n",
       "      <th>생성일자</th>\n",
       "      <th>말소일자</th>\n",
       "    </tr>\n",
       "  </thead>\n",
       "  <tbody>\n",
       "    <tr>\n",
       "      <th>0</th>\n",
       "      <td>11</td>\n",
       "      <td>서울특별시</td>\n",
       "      <td>11000</td>\n",
       "      <td>NaN</td>\n",
       "      <td>1100000000</td>\n",
       "      <td>NaN</td>\n",
       "      <td>NaN</td>\n",
       "      <td>19880423</td>\n",
       "      <td>NaN</td>\n",
       "    </tr>\n",
       "    <tr>\n",
       "      <th>1</th>\n",
       "      <td>11</td>\n",
       "      <td>서울특별시</td>\n",
       "      <td>11110</td>\n",
       "      <td>종로구</td>\n",
       "      <td>1111000000</td>\n",
       "      <td>NaN</td>\n",
       "      <td>NaN</td>\n",
       "      <td>19880423</td>\n",
       "      <td>NaN</td>\n",
       "    </tr>\n",
       "    <tr>\n",
       "      <th>2</th>\n",
       "      <td>11</td>\n",
       "      <td>서울특별시</td>\n",
       "      <td>11110</td>\n",
       "      <td>종로구</td>\n",
       "      <td>1111010100</td>\n",
       "      <td>청운동</td>\n",
       "      <td>NaN</td>\n",
       "      <td>19880423</td>\n",
       "      <td>NaN</td>\n",
       "    </tr>\n",
       "    <tr>\n",
       "      <th>3</th>\n",
       "      <td>11</td>\n",
       "      <td>서울특별시</td>\n",
       "      <td>11110</td>\n",
       "      <td>종로구</td>\n",
       "      <td>1111010200</td>\n",
       "      <td>신교동</td>\n",
       "      <td>NaN</td>\n",
       "      <td>19880423</td>\n",
       "      <td>NaN</td>\n",
       "    </tr>\n",
       "    <tr>\n",
       "      <th>4</th>\n",
       "      <td>11</td>\n",
       "      <td>서울특별시</td>\n",
       "      <td>11110</td>\n",
       "      <td>종로구</td>\n",
       "      <td>1111010300</td>\n",
       "      <td>궁정동</td>\n",
       "      <td>NaN</td>\n",
       "      <td>19880423</td>\n",
       "      <td>NaN</td>\n",
       "    </tr>\n",
       "    <tr>\n",
       "      <th>...</th>\n",
       "      <td>...</td>\n",
       "      <td>...</td>\n",
       "      <td>...</td>\n",
       "      <td>...</td>\n",
       "      <td>...</td>\n",
       "      <td>...</td>\n",
       "      <td>...</td>\n",
       "      <td>...</td>\n",
       "      <td>...</td>\n",
       "    </tr>\n",
       "    <tr>\n",
       "      <th>46299</th>\n",
       "      <td>50</td>\n",
       "      <td>제주특별자치도</td>\n",
       "      <td>50130</td>\n",
       "      <td>서귀포시</td>\n",
       "      <td>5013032022</td>\n",
       "      <td>표선면</td>\n",
       "      <td>하천리</td>\n",
       "      <td>20060701</td>\n",
       "      <td>NaN</td>\n",
       "    </tr>\n",
       "    <tr>\n",
       "      <th>46300</th>\n",
       "      <td>50</td>\n",
       "      <td>제주특별자치도</td>\n",
       "      <td>50130</td>\n",
       "      <td>서귀포시</td>\n",
       "      <td>5013032023</td>\n",
       "      <td>표선면</td>\n",
       "      <td>성읍리</td>\n",
       "      <td>20060701</td>\n",
       "      <td>NaN</td>\n",
       "    </tr>\n",
       "    <tr>\n",
       "      <th>46301</th>\n",
       "      <td>50</td>\n",
       "      <td>제주특별자치도</td>\n",
       "      <td>50130</td>\n",
       "      <td>서귀포시</td>\n",
       "      <td>5013032024</td>\n",
       "      <td>표선면</td>\n",
       "      <td>가시리</td>\n",
       "      <td>20060701</td>\n",
       "      <td>NaN</td>\n",
       "    </tr>\n",
       "    <tr>\n",
       "      <th>46302</th>\n",
       "      <td>50</td>\n",
       "      <td>제주특별자치도</td>\n",
       "      <td>50130</td>\n",
       "      <td>서귀포시</td>\n",
       "      <td>5013032025</td>\n",
       "      <td>표선면</td>\n",
       "      <td>세화리</td>\n",
       "      <td>20060701</td>\n",
       "      <td>NaN</td>\n",
       "    </tr>\n",
       "    <tr>\n",
       "      <th>46303</th>\n",
       "      <td>50</td>\n",
       "      <td>제주특별자치도</td>\n",
       "      <td>50130</td>\n",
       "      <td>서귀포시</td>\n",
       "      <td>5013032026</td>\n",
       "      <td>표선면</td>\n",
       "      <td>토산리</td>\n",
       "      <td>20060701</td>\n",
       "      <td>NaN</td>\n",
       "    </tr>\n",
       "  </tbody>\n",
       "</table>\n",
       "<p>46304 rows × 9 columns</p>\n",
       "</div>"
      ],
      "text/plain": [
       "       시도코드      시도명  시군구코드  시군구명       법정동코드 읍면동명  동리명      생성일자  말소일자\n",
       "0        11    서울특별시  11000   NaN  1100000000  NaN  NaN  19880423   NaN\n",
       "1        11    서울특별시  11110   종로구  1111000000  NaN  NaN  19880423   NaN\n",
       "2        11    서울특별시  11110   종로구  1111010100  청운동  NaN  19880423   NaN\n",
       "3        11    서울특별시  11110   종로구  1111010200  신교동  NaN  19880423   NaN\n",
       "4        11    서울특별시  11110   종로구  1111010300  궁정동  NaN  19880423   NaN\n",
       "...     ...      ...    ...   ...         ...  ...  ...       ...   ...\n",
       "46299    50  제주특별자치도  50130  서귀포시  5013032022  표선면  하천리  20060701   NaN\n",
       "46300    50  제주특별자치도  50130  서귀포시  5013032023  표선면  성읍리  20060701   NaN\n",
       "46301    50  제주특별자치도  50130  서귀포시  5013032024  표선면  가시리  20060701   NaN\n",
       "46302    50  제주특별자치도  50130  서귀포시  5013032025  표선면  세화리  20060701   NaN\n",
       "46303    50  제주특별자치도  50130  서귀포시  5013032026  표선면  토산리  20060701   NaN\n",
       "\n",
       "[46304 rows x 9 columns]"
      ]
     },
     "execution_count": 4,
     "metadata": {},
     "output_type": "execute_result"
    }
   ],
   "source": [
    "df = pdr.code_list()\n",
    "df"
   ]
  },
  {
   "cell_type": "code",
   "execution_count": null,
   "metadata": {
    "ExecuteTime": {
     "end_time": "2021-11-10T06:13:45.235733Z",
     "start_time": "2021-11-10T06:13:42.698678Z"
    }
   },
   "outputs": [],
   "source": [
    "# 공공 데이터 포털 Open API 서비스키\n",
    "serviceKey = OpenAPI['molit']\n",
    "self = pdr.Transaction(serviceKey, debug=True)\n",
    "self2 = pdr.Building(serviceKey, debug=True)"
   ]
  },
  {
   "cell_type": "code",
   "execution_count": null,
   "metadata": {},
   "outputs": [],
   "source": []
  },
  {
   "cell_type": "code",
   "execution_count": null,
   "metadata": {
    "ExecuteTime": {
     "end_time": "2021-11-10T05:44:48.056643Z",
     "start_time": "2021-11-10T05:44:48.043644Z"
    }
   },
   "outputs": [],
   "source": [
    "self.code"
   ]
  },
  {
   "cell_type": "code",
   "execution_count": null,
   "metadata": {},
   "outputs": [],
   "source": []
  },
  {
   "cell_type": "code",
   "execution_count": null,
   "metadata": {},
   "outputs": [],
   "source": []
  },
  {
   "cell_type": "markdown",
   "metadata": {},
   "source": [
    "### Features\n",
    "\n",
    "- 로깅 기능\n",
    "    - 세션 초기화 시 `debug` 인자 추가\n",
    "        - False(Default): Error만 출력\n",
    "        - True: 모두 출력\n",
    "- OPEN API 에러 코드 별 조치방안 출력 기능 추가\n",
    "    - \n",
    "- Operation 별 조회 항목 수정\n",
    "    - 매매자료 '해제사유발생일' 항목 추가\n",
    "- Air Korea Open API 모듈 제거\n",
    "- 법정동코드 테이블 조회 함수 추가"
   ]
  },
  {
   "cell_type": "code",
   "execution_count": null,
   "metadata": {},
   "outputs": [],
   "source": []
  },
  {
   "cell_type": "code",
   "execution_count": null,
   "metadata": {},
   "outputs": [],
   "source": []
  }
 ],
 "metadata": {
  "hide_input": false,
  "kernelspec": {
   "display_name": "Python 3",
   "language": "python",
   "name": "python3"
  },
  "language_info": {
   "codemirror_mode": {
    "name": "ipython",
    "version": 3
   },
   "file_extension": ".py",
   "mimetype": "text/x-python",
   "name": "python",
   "nbconvert_exporter": "python",
   "pygments_lexer": "ipython3",
   "version": "3.8.5"
  },
  "varInspector": {
   "cols": {
    "lenName": 16,
    "lenType": 16,
    "lenVar": 40
   },
   "kernels_config": {
    "python": {
     "delete_cmd_postfix": "",
     "delete_cmd_prefix": "del ",
     "library": "var_list.py",
     "varRefreshCmd": "print(var_dic_list())"
    },
    "r": {
     "delete_cmd_postfix": ") ",
     "delete_cmd_prefix": "rm(",
     "library": "var_list.r",
     "varRefreshCmd": "cat(var_dic_list()) "
    }
   },
   "types_to_exclude": [
    "module",
    "function",
    "builtin_function_or_method",
    "instance",
    "_Feature"
   ],
   "window_display": false
  }
 },
 "nbformat": 4,
 "nbformat_minor": 4
}
