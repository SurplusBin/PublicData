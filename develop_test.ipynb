{
 "cells": [
  {
   "cell_type": "code",
   "execution_count": 1,
   "metadata": {
    "ExecuteTime": {
     "end_time": "2021-11-12T08:19:06.209883Z",
     "start_time": "2021-11-12T08:19:05.805780Z"
    }
   },
   "outputs": [
    {
     "name": "stdout",
     "output_type": "stream",
     "text": [
      "['__version__', '__info__', 'Transaction', 'Building', 'StoreInfo', 'code_list']\n",
      "2021.11.\n"
     ]
    }
   ],
   "source": [
    "import PublicDataReader as pdr\n",
    "from config import OpenAPI\n",
    "import pandas as pd\n",
    "\n",
    "# DataFrame 디스플레이 설정\n",
    "pd.set_option('display.max_columns', 250)\n",
    "pd.set_option('display.max_rows', 250)\n",
    "pd.set_option('display.width', 100)\n",
    "\n",
    "print(pdr.__all__)\n",
    "print(pdr.__version__)\n",
    "# print(pdr.__info__)"
   ]
  },
  {
   "cell_type": "code",
   "execution_count": 2,
   "metadata": {
    "ExecuteTime": {
     "end_time": "2021-11-12T08:19:07.362001Z",
     "start_time": "2021-11-12T08:19:07.347001Z"
    }
   },
   "outputs": [],
   "source": [
    "serviceKey = OpenAPI['molit']\n",
    "semas = pdr.StoreInfo(serviceKey, debug=True)"
   ]
  },
  {
   "cell_type": "code",
   "execution_count": 3,
   "metadata": {
    "ExecuteTime": {
     "end_time": "2021-11-12T08:19:08.613442Z",
     "start_time": "2021-11-12T08:19:08.479236Z"
    }
   },
   "outputs": [
    {
     "data": {
      "text/html": [
       "<div>\n",
       "<style scoped>\n",
       "    .dataframe tbody tr th:only-of-type {\n",
       "        vertical-align: middle;\n",
       "    }\n",
       "\n",
       "    .dataframe tbody tr th {\n",
       "        vertical-align: top;\n",
       "    }\n",
       "\n",
       "    .dataframe thead th {\n",
       "        text-align: right;\n",
       "    }\n",
       "</style>\n",
       "<table border=\"1\" class=\"dataframe\">\n",
       "  <thead>\n",
       "    <tr style=\"text-align: right;\">\n",
       "      <th></th>\n",
       "      <th>trarNo</th>\n",
       "      <th>mainTrarNm</th>\n",
       "      <th>ctprvnCd</th>\n",
       "      <th>ctprvnNm</th>\n",
       "      <th>signguCd</th>\n",
       "      <th>signguNm</th>\n",
       "      <th>trarArea</th>\n",
       "      <th>coordNum</th>\n",
       "      <th>coords</th>\n",
       "      <th>stdrDt</th>\n",
       "    </tr>\n",
       "  </thead>\n",
       "  <tbody>\n",
       "    <tr>\n",
       "      <th>0</th>\n",
       "      <td>9174</td>\n",
       "      <td>인사동</td>\n",
       "      <td>11</td>\n",
       "      <td>서울특별시</td>\n",
       "      <td>11110</td>\n",
       "      <td>종로구</td>\n",
       "      <td>226875</td>\n",
       "      <td>21</td>\n",
       "      <td>MULTIPOLYGON (((126.986059148338 37.5765234907...</td>\n",
       "      <td>2021-06-30</td>\n",
       "    </tr>\n",
       "  </tbody>\n",
       "</table>\n",
       "</div>"
      ],
      "text/plain": [
       "  trarNo mainTrarNm ctprvnCd ctprvnNm signguCd signguNm trarArea coordNum  \\\n",
       "0   9174        인사동       11    서울특별시    11110      종로구   226875       21   \n",
       "\n",
       "                                              coords      stdrDt  \n",
       "0  MULTIPOLYGON (((126.986059148338 37.5765234907...  2021-06-30  "
      ]
     },
     "execution_count": 3,
     "metadata": {},
     "output_type": "execute_result"
    }
   ],
   "source": [
    "# 1. 지정상권\n",
    "category = \"지정상권\"\n",
    "key = \"9174\"\n",
    "\n",
    "df = semas.read_data(category=category, key=key)\n",
    "\n",
    "# 2. 반경상권\n",
    "category = \"반경상권\"\n",
    "\n",
    "radius = 500\n",
    "cx = 127.03641615737838\n",
    "cy = 37.50059843782878\n",
    "\n",
    "df = semas.read_data(category=category, radius=radius, cx=cx, cy=cy)\n",
    "\n",
    "# 3. 사각형상권\n",
    "category = \"사각형상권\"\n",
    "\n",
    "minx = 127.0327683531071\n",
    "miny = 37.495967935149146\n",
    "maxx = 127.04268179746694\n",
    "maxy = 37.502402894207286\n",
    "\n",
    "df = semas.read_data(category=category, minx=minx, miny=miny, maxx=maxx, maxy=maxy)\n",
    "\n",
    "# 4. 행정구역상권\n",
    "category = \"행정구역상권\"\n",
    "\n",
    "divId = 'adongCd'\n",
    "key = '1168058000'\n",
    "\n",
    "df = semas.read_data(category=category,divId=divId, key=key)\n",
    "\n",
    "# 5. 단일상가\n",
    "category = \"단일상가\"\n",
    "\n",
    "key = '11757465'\n",
    "\n",
    "df = semas.read_data(category=category, key=key)\n",
    "\n",
    "# 6. 건물상가\n",
    "category = \"건물상가\"\n",
    "\n",
    "key = '1168011000104940000004966'\n",
    "\n",
    "df = semas.read_data(category=category, key=key)\n",
    "\n",
    "# 7. 지번상가\n",
    "category = \"지번상가\"\n",
    "\n",
    "key = '1165010100108120002'\n",
    "indsLclsCd = 'Q'\n",
    "\n",
    "df = semas.read_data(category=category, key=key, indsLclsCd=indsLclsCd)\n",
    "\n",
    "# 8. 행정동상가\n",
    "category = \"행정동상가\"\n",
    "\n",
    "divId = 'adongCd'\n",
    "key = '1168064000'\n",
    "indsLclsCd = 'Q'\n",
    "\n",
    "df = semas.read_data(category=category, divId=divId, key=key, indsLclsCd=indsLclsCd)\n",
    "\n",
    "# 9. 상권상가\n",
    "category = \"상권상가\"\n",
    "\n",
    "key = '9368'\n",
    "indsLclsCd = 'Q'\n",
    "\n",
    "df = semas.read_data(category=category, key=key, indsLclsCd=indsLclsCd)\n",
    "\n",
    "# 10. 반경상가\n",
    "category = \"반경상가\"\n",
    "\n",
    "radius = '500'\n",
    "cx = 127.03641615737838\n",
    "cy = 37.50059843782878\n",
    "indsLclsCd = 'Q'\n",
    "\n",
    "df = semas.read_data(category=category, radius=radius, cx=cx, cy=cy, indsLclsCd=indsLclsCd)\n",
    "\n",
    "# 11. 사각형상가\n",
    "category = \"사각형상가\"\n",
    "\n",
    "minx = 127.0327683531071\n",
    "miny = 37.495967935149146\n",
    "maxx = 127.04268179746694\n",
    "maxy = 37.502402894207286\n",
    "indsLclsCd = 'Q'\n",
    "\n",
    "df = semas.read_data(category=category, minx=minx, miny=miny, maxx=maxx, maxy=maxy, indsLclsCd=indsLclsCd)\n",
    "\n",
    "# 12. 다각형상가\n",
    "category = \"다각형상가\"\n",
    "\n",
    "key = 'POLYGON((127.02355609555755 37.504264372557095, 127.02496157306963 37.50590702991155, 127.0270858825753 37.50486867039889, 127.02628121988377 37.503489842823114))'\n",
    "indsLclsCd = 'Q'\n",
    "\n",
    "df = semas.read_data(category=category, key=key, indsLclsCd=indsLclsCd)\n",
    "\n",
    "# 13. 업종별상가\n",
    "category = \"업종별상가\"\n",
    "\n",
    "divId = 'indsLclsCd'\n",
    "key = 'Q'\n",
    "\n",
    "df = semas.read_data(category=category, divId=divId, key=key)\n",
    "\n",
    "# 14. 수정일자상가\n",
    "category = \"수정일자상가\"\n",
    "\n",
    "key = '20200101'\n",
    "indsLclsCd = 'Q'\n",
    "\n",
    "df = semas.read_data(category=category, key=key, indsLclsCd=indsLclsCd)\n",
    "\n",
    "# 15. 업종대분류\n",
    "category = \"업종대분류\"\n",
    "\n",
    "df = semas.read_data(category=category, key=key)\n",
    "\n",
    "# 16. 업종중분류\n",
    "category = \"업종중분류\"\n",
    "\n",
    "indsLclsCd = 'Q'\n",
    "\n",
    "df = semas.read_data(category=category, key=key, indsLclsCd=indsLclsCd)\n",
    "\n",
    "# 17. 업종소분류\n",
    "category = \"업종소분류\"\n",
    "\n",
    "indsLclsCd = 'Q'\n",
    "indsMclsCd = 'Q01'\n",
    "\n",
    "df = semas.read_data(category=category, key=key, indsLclsCd=indsLclsCd, indsMclsCd=indsMclsCd)\n"
   ]
  },
  {
   "cell_type": "code",
   "execution_count": null,
   "metadata": {},
   "outputs": [],
   "source": []
  },
  {
   "cell_type": "code",
   "execution_count": null,
   "metadata": {},
   "outputs": [],
   "source": []
  },
  {
   "cell_type": "markdown",
   "metadata": {},
   "source": [
    "## Semas Class"
   ]
  },
  {
   "cell_type": "code",
   "execution_count": null,
   "metadata": {},
   "outputs": [],
   "source": []
  },
  {
   "cell_type": "markdown",
   "metadata": {},
   "source": [
    "## Transaction Class"
   ]
  },
  {
   "cell_type": "code",
   "execution_count": null,
   "metadata": {
    "ExecuteTime": {
     "end_time": "2021-11-12T05:49:53.941819Z",
     "start_time": "2021-11-12T05:49:53.849819Z"
    }
   },
   "outputs": [],
   "source": [
    "# 법정동코드 목록\n",
    "code = pdr.code_list()\n",
    "code.head()"
   ]
  },
  {
   "cell_type": "code",
   "execution_count": 20,
   "metadata": {
    "ExecuteTime": {
     "end_time": "2021-11-12T08:30:46.913015Z",
     "start_time": "2021-11-12T08:30:33.172717Z"
    },
    "scrolled": false
   },
   "outputs": [
    {
     "name": "stderr",
     "output_type": "stream",
     "text": [
      "[INFO] 아파트 매매 조회 서비스 정상 - (00) NORMAL SERVICE.\n",
      "[INFO] 아파트 전월세 조회 서비스 정상 - (00) NORMAL SERVICE.\n",
      "[INFO] 오피스텔 매매 조회 서비스 정상 - (00) NORMAL SERVICE.\n",
      "[INFO] 오피스텔 전월세 조회 서비스 정상 - (00) NORMAL SERVICE.\n",
      "[INFO] 단독다가구 매매 조회 서비스 정상 - (00) NORMAL SERVICE.\n",
      "[INFO] 단독다가구 전월세 조회 서비스 정상 - (00) NORMAL SERVICE.\n",
      "[INFO] 연립다세대 매매 조회 서비스 정상 - (00) NORMAL SERVICE.\n",
      "[INFO] 연립다세대 전월세 조회 서비스 정상 - (00) NORMAL SERVICE.\n",
      "[INFO] 상업업무용 매매 조회 서비스 정상 - (00) NORMAL SERVICE.\n",
      "[INFO] 토지 매매 조회 서비스 정상 - (00) NORMAL SERVICE.\n",
      "[INFO] 분양입주권 매매 조회 서비스 정상 - (00) NORMAL SERVICE.\n",
      "[INFO] 아파트 매매 202101 조회 시작\n",
      "[INFO] 아파트 매매 202102 조회 시작\n",
      "[INFO] 아파트 매매 202103 조회 시작\n"
     ]
    }
   ],
   "source": [
    "# 공공 데이터 포털 Open API 서비스키\n",
    "serviceKey = OpenAPI['molit']\n",
    "self = pdr.Transaction(serviceKey, debug=True)\n",
    "\n",
    "prod=\"아파트\"\n",
    "trans=\"매매\"\n",
    "sigunguCode=\"41135\"\n",
    "yearMonth=\"202101\"\n",
    "\n",
    "df = self.read_data(prod, trans, sigunguCode, yearMonth)\n",
    "df2 = self.collect_data(prod, trans, sigunguCode, \"202101\", \"202103\")"
   ]
  },
  {
   "cell_type": "code",
   "execution_count": null,
   "metadata": {},
   "outputs": [],
   "source": []
  },
  {
   "cell_type": "code",
   "execution_count": null,
   "metadata": {},
   "outputs": [],
   "source": []
  },
  {
   "cell_type": "markdown",
   "metadata": {},
   "source": [
    "## Building Class"
   ]
  },
  {
   "cell_type": "code",
   "execution_count": null,
   "metadata": {
    "ExecuteTime": {
     "end_time": "2021-11-12T05:21:55.939514Z",
     "start_time": "2021-11-12T05:21:54.833144Z"
    }
   },
   "outputs": [],
   "source": [
    "# 공공 데이터 포털 Open API 서비스키\n",
    "serviceKey = OpenAPI['molit']\n",
    "self = pdr.Building(serviceKey, debug=True)\n",
    "\n",
    "category = \"기본개요\"\n",
    "\n",
    "sigunguCd = \"41135\"\n",
    "bjdongCd = \"11000\"\n",
    "bun = \"0560\"\n",
    "ji = \"0003\"\n",
    "\n",
    "df = self.read_data(category, sigunguCd=sigunguCd, bjdongCd=bjdongCd, bun=bun, ji=ji)\n",
    "df"
   ]
  },
  {
   "cell_type": "markdown",
   "metadata": {},
   "source": [
    "## 컬럼 리스트 추출"
   ]
  },
  {
   "cell_type": "code",
   "execution_count": null,
   "metadata": {
    "ExecuteTime": {
     "end_time": "2021-11-10T08:30:22.486468Z",
     "start_time": "2021-11-10T08:30:15.941628Z"
    },
    "scrolled": true
   },
   "outputs": [],
   "source": [
    "# LAWD_CD=11680\n",
    "# DEAL_YMD=202110\n",
    "\n",
    "\n",
    "# for prod in ['아파트','오피스텔','단독다가구','연립다세대','상업업무용','분양입주권','토지']:\n",
    "#     for trans in ['매매', '전월세']:\n",
    "#         try:\n",
    "#             print()\n",
    "#             print(f\">> {prod} {trans}\")\n",
    "#             print()\n",
    "#             service_url = self.metaDict[prod][trans]['url']\n",
    "\n",
    "#             # URL\n",
    "#             url=f\"\"\"\\\n",
    "# {service_url}\\\n",
    "# &LAWD_CD={str(LAWD_CD)}\\\n",
    "# &DEAL_YMD={str(DEAL_YMD)}\\\n",
    "# &numOfRows=99999\\\n",
    "#             \"\"\"\n",
    "\n",
    "#             result = requests.get(url, verify=False)\n",
    "#             xmlsoup = BeautifulSoup(result.text, \"lxml-xml\")\n",
    "#             item = xmlsoup.find(\"item\")\n",
    "\n",
    "#             col_list = []\n",
    "#             for i in item:\n",
    "#                 col_list.append(i.name)\n",
    "#             for col in col_list: \n",
    "#                 print(f\"'{col}'\", end=',')\n",
    "                \n",
    "#         except:\n",
    "#             print(\"Error\")\n",
    "#             pass"
   ]
  },
  {
   "cell_type": "markdown",
   "metadata": {},
   "source": [
    "### Features\n",
    "\n",
    "- 공통\n",
    "\n",
    "    - 로깅 기능\n",
    "        - 세션 초기화 시 `debug` 인자 추가\n",
    "            - False(Default): 오류 레벨만 출력\n",
    "            - True: 모든 레벨 출력\n",
    "        - OPEN API 에러 코드 출력\n",
    "\n",
    "    - Air Korea Open API 모듈 제거\n",
    "    \n",
    "    - 법정동코드 테이블 조회 함수 추가\n",
    "\n",
    "- 부동산 실거래가\n",
    "\n",
    "    - 데이터 조회 메서드 일원화\n",
    "        - molit.read_data('아파트', '매매', '11680', '202111')\n",
    "            - 서비스별 End-point 및 컬럼 매핑 딕셔너리 추가\n",
    "    - 데이터 수집 메서드 신규 메서드 추가\n",
    "        - molit.collect_data('아파트', '매매', '11680', '202101', '202103')\n",
    "\n",
    "- 건축물대장\n",
    "    \n",
    "    - 데이터 조회 메서드 일원화\n",
    "        - molit.read_data(category, sigunguCd=sigunguCd, bjdongCd=bjdongCd, bun=bun, ji=ji)"
   ]
  }
 ],
 "metadata": {
  "hide_input": false,
  "kernelspec": {
   "display_name": "Python 3",
   "language": "python",
   "name": "python3"
  },
  "language_info": {
   "codemirror_mode": {
    "name": "ipython",
    "version": 3
   },
   "file_extension": ".py",
   "mimetype": "text/x-python",
   "name": "python",
   "nbconvert_exporter": "python",
   "pygments_lexer": "ipython3",
   "version": "3.8.5"
  },
  "varInspector": {
   "cols": {
    "lenName": 16,
    "lenType": 16,
    "lenVar": 40
   },
   "kernels_config": {
    "python": {
     "delete_cmd_postfix": "",
     "delete_cmd_prefix": "del ",
     "library": "var_list.py",
     "varRefreshCmd": "print(var_dic_list())"
    },
    "r": {
     "delete_cmd_postfix": ") ",
     "delete_cmd_prefix": "rm(",
     "library": "var_list.r",
     "varRefreshCmd": "cat(var_dic_list()) "
    }
   },
   "types_to_exclude": [
    "module",
    "function",
    "builtin_function_or_method",
    "instance",
    "_Feature"
   ],
   "window_display": false
  }
 },
 "nbformat": 4,
 "nbformat_minor": 4
}
