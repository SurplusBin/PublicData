{
 "cells": [
  {
   "cell_type": "code",
   "execution_count": 1,
   "metadata": {
    "ExecuteTime": {
     "end_time": "2021-11-12T03:55:35.404832Z",
     "start_time": "2021-11-12T03:55:34.979170Z"
    }
   },
   "outputs": [
    {
     "name": "stdout",
     "output_type": "stream",
     "text": [
      "['__version__', '__info__', 'Transaction', 'Building', 'code_list']\n",
      "2021.11.\n"
     ]
    }
   ],
   "source": [
    "import PublicDataReader as pdr\n",
    "from config import OpenAPI\n",
    "import pandas as pd\n",
    "\n",
    "# DataFrame 디스플레이 설정\n",
    "pd.set_option('display.max_columns', 250)\n",
    "pd.set_option('display.max_rows', 250)\n",
    "pd.set_option('display.width', 100)\n",
    "\n",
    "print(pdr.__all__)\n",
    "print(pdr.__version__)\n",
    "# print(pdr.__info__)"
   ]
  },
  {
   "cell_type": "code",
   "execution_count": null,
   "metadata": {
    "ExecuteTime": {
     "end_time": "2021-11-12T02:48:46.388549Z",
     "start_time": "2021-11-12T02:48:46.325476Z"
    }
   },
   "outputs": [],
   "source": [
    "# 법정동코드 목록\n",
    "code = pdr.code_list()"
   ]
  },
  {
   "cell_type": "code",
   "execution_count": null,
   "metadata": {
    "ExecuteTime": {
     "end_time": "2021-11-12T00:51:38.622259Z",
     "start_time": "2021-11-12T00:51:38.128924Z"
    },
    "scrolled": false
   },
   "outputs": [],
   "source": [
    "# 공공 데이터 포털 Open API 서비스키\n",
    "serviceKey = OpenAPI['molit']\n",
    "self = pdr.Transaction(serviceKey, debug=True)"
   ]
  },
  {
   "cell_type": "code",
   "execution_count": null,
   "metadata": {
    "ExecuteTime": {
     "end_time": "2021-11-11T23:39:42.975760Z",
     "start_time": "2021-11-11T23:39:39.081183Z"
    },
    "scrolled": true
   },
   "outputs": [],
   "source": [
    "prod=\"아파트\"\n",
    "trans=\"매매\"\n",
    "sigunguCode=\"41135\"\n",
    "yearMonth=\"202101\"\n",
    "\n",
    "df = self.read_data(prod, trans, sigunguCode, yearMonth)\n",
    "df"
   ]
  },
  {
   "cell_type": "code",
   "execution_count": null,
   "metadata": {
    "ExecuteTime": {
     "end_time": "2021-11-11T23:41:32.348238Z",
     "start_time": "2021-11-11T23:39:45.532102Z"
    },
    "scrolled": true
   },
   "outputs": [],
   "source": [
    "df = self.collect_data(prod, trans, sigunguCode, \"201901\", \"202111\")\n",
    "df"
   ]
  },
  {
   "cell_type": "markdown",
   "metadata": {},
   "source": [
    "## Building Class"
   ]
  },
  {
   "cell_type": "code",
   "execution_count": 2,
   "metadata": {
    "ExecuteTime": {
     "end_time": "2021-11-12T03:55:38.726899Z",
     "start_time": "2021-11-12T03:55:37.724324Z"
    }
   },
   "outputs": [],
   "source": [
    "# 공공 데이터 포털 Open API 서비스키\n",
    "serviceKey = OpenAPI['molit']\n",
    "self = pdr.Building(serviceKey, debug=False)"
   ]
  },
  {
   "cell_type": "code",
   "execution_count": 3,
   "metadata": {
    "ExecuteTime": {
     "end_time": "2021-11-12T03:55:39.615309Z",
     "start_time": "2021-11-12T03:55:39.417205Z"
    }
   },
   "outputs": [
    {
     "data": {
      "text/html": [
       "<div>\n",
       "<style scoped>\n",
       "    .dataframe tbody tr th:only-of-type {\n",
       "        vertical-align: middle;\n",
       "    }\n",
       "\n",
       "    .dataframe tbody tr th {\n",
       "        vertical-align: top;\n",
       "    }\n",
       "\n",
       "    .dataframe thead th {\n",
       "        text-align: right;\n",
       "    }\n",
       "</style>\n",
       "<table border=\"1\" class=\"dataframe\">\n",
       "  <thead>\n",
       "    <tr style=\"text-align: right;\">\n",
       "      <th></th>\n",
       "      <th>건축면적</th>\n",
       "      <th>부속건축물면적</th>\n",
       "      <th>부속건축물수</th>\n",
       "      <th>건폐율</th>\n",
       "      <th>법정동코드</th>\n",
       "      <th>건물명</th>\n",
       "      <th>블록</th>\n",
       "      <th>번</th>\n",
       "      <th>외필지수</th>\n",
       "      <th>생성일자</th>\n",
       "      <th>EPI점수</th>\n",
       "      <th>에너지효율등급</th>\n",
       "      <th>에너지절감율</th>\n",
       "      <th>기타용도</th>\n",
       "      <th>가구수</th>\n",
       "      <th>친환경건축물인증점수</th>\n",
       "      <th>친환경건축물등급</th>\n",
       "      <th>세대수</th>\n",
       "      <th>호수</th>\n",
       "      <th>옥내자주식면적</th>\n",
       "      <th>옥내자주식대수</th>\n",
       "      <th>옥내기계식면적</th>\n",
       "      <th>옥내기계식대수</th>\n",
       "      <th>지능형건축물인증점수</th>\n",
       "      <th>지능형건축물등급</th>\n",
       "      <th>지</th>\n",
       "      <th>로트</th>\n",
       "      <th>주건축물수</th>\n",
       "      <th>주용도코드</th>\n",
       "      <th>주용도코드명</th>\n",
       "      <th>관리건축물대장PK</th>\n",
       "      <th>새주소법정동코드</th>\n",
       "      <th>새주소본번</th>\n",
       "      <th>새주소도로코드</th>\n",
       "      <th>새주소부번</th>\n",
       "      <th>새주소지상지하코드</th>\n",
       "      <th>신구대장구분코드</th>\n",
       "      <th>신구대장구분코드명</th>\n",
       "      <th>도로명대지위치</th>\n",
       "      <th>옥외자주식면적</th>\n",
       "      <th>옥외자주식대수</th>\n",
       "      <th>옥외기계식면적</th>\n",
       "      <th>옥외기계식대수</th>\n",
       "      <th>대지면적</th>\n",
       "      <th>대지구분코드</th>\n",
       "      <th>대지위치</th>\n",
       "      <th>허가일</th>\n",
       "      <th>허가번호구분코드</th>\n",
       "      <th>허가번호구분코드명</th>\n",
       "      <th>허가번호기관코드</th>\n",
       "      <th>허가번호기관코드명</th>\n",
       "      <th>허가번호년</th>\n",
       "      <th>대장구분코드</th>\n",
       "      <th>대장구분코드명</th>\n",
       "      <th>대장종류코드</th>\n",
       "      <th>대장종류코드명</th>\n",
       "      <th>순번</th>\n",
       "      <th>시군구코드</th>\n",
       "      <th>특수지명</th>\n",
       "      <th>착공일</th>\n",
       "      <th>연면적</th>\n",
       "      <th>총주차수</th>\n",
       "      <th>사용승인일</th>\n",
       "      <th>용적률</th>\n",
       "      <th>용적률산정연면적</th>\n",
       "    </tr>\n",
       "  </thead>\n",
       "  <tbody>\n",
       "    <tr>\n",
       "      <th>0</th>\n",
       "      <td>10799.671</td>\n",
       "      <td>72376.6521</td>\n",
       "      <td>4</td>\n",
       "      <td>16.39</td>\n",
       "      <td>11000</td>\n",
       "      <td>판교 푸르지오그랑블</td>\n",
       "      <td></td>\n",
       "      <td>0542</td>\n",
       "      <td>0</td>\n",
       "      <td>20190923</td>\n",
       "      <td>0</td>\n",
       "      <td></td>\n",
       "      <td>0</td>\n",
       "      <td>아파트</td>\n",
       "      <td>0</td>\n",
       "      <td>0</td>\n",
       "      <td></td>\n",
       "      <td>948</td>\n",
       "      <td>0</td>\n",
       "      <td>68583.8921</td>\n",
       "      <td>1718</td>\n",
       "      <td>0</td>\n",
       "      <td>0</td>\n",
       "      <td>0</td>\n",
       "      <td></td>\n",
       "      <td>0000</td>\n",
       "      <td></td>\n",
       "      <td>15</td>\n",
       "      <td>02000</td>\n",
       "      <td>공동주택</td>\n",
       "      <td>41135-100225002</td>\n",
       "      <td>11002</td>\n",
       "      <td>123.0</td>\n",
       "      <td>411353178016</td>\n",
       "      <td>0.0</td>\n",
       "      <td>0</td>\n",
       "      <td>1</td>\n",
       "      <td>신대장</td>\n",
       "      <td>경기도 성남시 분당구 동판교로 123</td>\n",
       "      <td>0</td>\n",
       "      <td>0</td>\n",
       "      <td>0</td>\n",
       "      <td>0</td>\n",
       "      <td>65893.5</td>\n",
       "      <td>0</td>\n",
       "      <td>경기도 성남시 분당구 백현동 542번지</td>\n",
       "      <td>20071030</td>\n",
       "      <td>2101</td>\n",
       "      <td>주택건설사업계획승인</td>\n",
       "      <td>3780086</td>\n",
       "      <td>주택과</td>\n",
       "      <td>2007</td>\n",
       "      <td>2</td>\n",
       "      <td>집합</td>\n",
       "      <td>1</td>\n",
       "      <td>총괄표제부</td>\n",
       "      <td>1</td>\n",
       "      <td>41135</td>\n",
       "      <td></td>\n",
       "      <td>20081216</td>\n",
       "      <td>204741.1485</td>\n",
       "      <td>1718</td>\n",
       "      <td>20110728</td>\n",
       "      <td>199.82</td>\n",
       "      <td>131671.3169</td>\n",
       "    </tr>\n",
       "  </tbody>\n",
       "</table>\n",
       "</div>"
      ],
      "text/plain": [
       "        건축면적     부속건축물면적 부속건축물수    건폐율  법정동코드         건물명 블록     번 외필지수      생성일자 EPI점수 에너지효율등급  \\\n",
       "0  10799.671  72376.6521      4  16.39  11000  판교 푸르지오그랑블     0542    0  20190923     0           \n",
       "\n",
       "  에너지절감율 기타용도 가구수 친환경건축물인증점수 친환경건축물등급  세대수 호수     옥내자주식면적 옥내자주식대수 옥내기계식면적 옥내기계식대수 지능형건축물인증점수  \\\n",
       "0      0  아파트   0          0           948  0  68583.8921    1718       0       0          0   \n",
       "\n",
       "  지능형건축물등급     지 로트 주건축물수  주용도코드 주용도코드명        관리건축물대장PK 새주소법정동코드  새주소본번       새주소도로코드 새주소부번  \\\n",
       "0           0000       15  02000   공동주택  41135-100225002    11002  123.0  411353178016   0.0   \n",
       "\n",
       "  새주소지상지하코드 신구대장구분코드 신구대장구분코드명               도로명대지위치 옥외자주식면적 옥외자주식대수 옥외기계식면적 옥외기계식대수     대지면적  \\\n",
       "0         0        1       신대장  경기도 성남시 분당구 동판교로 123       0       0       0       0  65893.5   \n",
       "\n",
       "  대지구분코드                   대지위치       허가일 허가번호구분코드   허가번호구분코드명 허가번호기관코드 허가번호기관코드명 허가번호년 대장구분코드  \\\n",
       "0      0  경기도 성남시 분당구 백현동 542번지  20071030     2101  주택건설사업계획승인  3780086       주택과  2007      2   \n",
       "\n",
       "  대장구분코드명 대장종류코드 대장종류코드명 순번  시군구코드 특수지명       착공일          연면적  총주차수     사용승인일     용적률  \\\n",
       "0      집합      1   총괄표제부  1  41135       20081216  204741.1485  1718  20110728  199.82   \n",
       "\n",
       "      용적률산정연면적  \n",
       "0  131671.3169  "
      ]
     },
     "execution_count": 3,
     "metadata": {},
     "output_type": "execute_result"
    }
   ],
   "source": [
    "category = \"총괄표제부\"\n",
    "\n",
    "sigunguCd = \"41135\"\n",
    "bjdongCd = \"11000\"\n",
    "bun = \"0542\"\n",
    "ji = \"0000\"\n",
    "\n",
    "df = self.read_data(category, sigunguCd=sigunguCd, bjdongCd=bjdongCd, bun=bun, ji=ji)\n",
    "df"
   ]
  },
  {
   "cell_type": "markdown",
   "metadata": {},
   "source": [
    "## Transaction Class"
   ]
  },
  {
   "cell_type": "code",
   "execution_count": null,
   "metadata": {
    "ExecuteTime": {
     "end_time": "2021-11-11T09:00:03.387370Z",
     "start_time": "2021-11-11T08:59:52.062029Z"
    },
    "scrolled": true
   },
   "outputs": [],
   "source": [
    "# 11종 데이터 조회 테스트\n",
    "sigunguCode = \"11680\"\n",
    "yearMonth = \"202110\"\n",
    "\n",
    "df_list = []\n",
    "for prod in self.metaDict.keys():\n",
    "    for trans in self.metaDict[prod].keys():\n",
    "        print()\n",
    "        print(\"▶\", prod, trans)\n",
    "        print()\n",
    "        df= self.read_data(prod, trans, sigunguCode, yearMonth)\n",
    "        df_list.append(df)\n",
    "        print(df.head(1))"
   ]
  },
  {
   "cell_type": "code",
   "execution_count": null,
   "metadata": {
    "ExecuteTime": {
     "end_time": "2021-11-11T05:25:12.528860Z",
     "start_time": "2021-11-11T05:25:12.511890Z"
    },
    "scrolled": true
   },
   "outputs": [],
   "source": [
    "prod = \"아파트\"\n",
    "trans = \"매매\"\n",
    "sigunguCode = \"11680\"\n",
    "yearMonth = \"202110\"\n",
    "startYearMonth = \"202101\"\n",
    "endYearMonth = \"202103\""
   ]
  },
  {
   "cell_type": "code",
   "execution_count": null,
   "metadata": {
    "ExecuteTime": {
     "end_time": "2021-11-11T05:25:16.246768Z",
     "start_time": "2021-11-11T05:25:13.615458Z"
    }
   },
   "outputs": [],
   "source": [
    "df = self.read_data(prod, trans, sigunguCode, yearMonth)\n",
    "df"
   ]
  },
  {
   "cell_type": "code",
   "execution_count": null,
   "metadata": {
    "ExecuteTime": {
     "end_time": "2021-11-11T05:25:31.594440Z",
     "start_time": "2021-11-11T05:25:23.325812Z"
    },
    "scrolled": true
   },
   "outputs": [],
   "source": [
    "df_sum = self.collect_data(prod, trans, sigunguCode, startYearMonth, endYearMonth)\n",
    "df_sum"
   ]
  },
  {
   "cell_type": "markdown",
   "metadata": {},
   "source": [
    "## 컬럼 리스트 추출"
   ]
  },
  {
   "cell_type": "code",
   "execution_count": null,
   "metadata": {
    "ExecuteTime": {
     "end_time": "2021-11-10T08:30:22.486468Z",
     "start_time": "2021-11-10T08:30:15.941628Z"
    },
    "scrolled": true
   },
   "outputs": [],
   "source": [
    "# LAWD_CD=11680\n",
    "# DEAL_YMD=202110\n",
    "\n",
    "\n",
    "# for prod in ['아파트','오피스텔','단독다가구','연립다세대','상업업무용','분양입주권','토지']:\n",
    "#     for trans in ['매매', '전월세']:\n",
    "#         try:\n",
    "#             print()\n",
    "#             print(f\">> {prod} {trans}\")\n",
    "#             print()\n",
    "#             service_url = self.metaDict[prod][trans]['url']\n",
    "\n",
    "#             # URL\n",
    "#             url=f\"\"\"\\\n",
    "# {service_url}\\\n",
    "# &LAWD_CD={str(LAWD_CD)}\\\n",
    "# &DEAL_YMD={str(DEAL_YMD)}\\\n",
    "# &numOfRows=99999\\\n",
    "#             \"\"\"\n",
    "\n",
    "#             result = requests.get(url, verify=False)\n",
    "#             xmlsoup = BeautifulSoup(result.text, \"lxml-xml\")\n",
    "#             item = xmlsoup.find(\"item\")\n",
    "\n",
    "#             col_list = []\n",
    "#             for i in item:\n",
    "#                 col_list.append(i.name)\n",
    "#             for col in col_list: \n",
    "#                 print(f\"'{col}'\", end=',')\n",
    "                \n",
    "#         except:\n",
    "#             print(\"Error\")\n",
    "#             pass"
   ]
  },
  {
   "cell_type": "markdown",
   "metadata": {},
   "source": [
    "### Features\n",
    "\n",
    "- 공통\n",
    "\n",
    "    - 로깅 기능\n",
    "        - 세션 초기화 시 `debug` 인자 추가\n",
    "            - False(Default): 오류 레벨만 출력\n",
    "            - True: 모든 레벨 출력\n",
    "        - OPEN API 에러 코드 출력\n",
    "\n",
    "    - Air Korea Open API 모듈 제거\n",
    "    \n",
    "    - 법정동코드 테이블 조회 함수 추가\n",
    "\n",
    "- 부동산 실거래가\n",
    "\n",
    "    - 데이터 조회 메서드 일원화\n",
    "        - molit.read_data('아파트', '매매', '11680', '202111')\n",
    "            - 서비스별 End-point 및 컬럼 매핑 딕셔너리 추가\n",
    "    - 데이터 수집 메서드 신규 메서드 추가\n",
    "        - molit.collect_data('아파트', '매매', '11680', '202101', '202103')\n",
    "\n",
    "- 건축물대장\n",
    "    \n",
    "    - 데이터 조회 메서드 일원화\n",
    "        - molit.read_data(category, sigunguCd=sigunguCd, bjdongCd=bjdongCd, bun=bun, ji=ji)"
   ]
  }
 ],
 "metadata": {
  "hide_input": false,
  "kernelspec": {
   "display_name": "Python 3",
   "language": "python",
   "name": "python3"
  },
  "language_info": {
   "codemirror_mode": {
    "name": "ipython",
    "version": 3
   },
   "file_extension": ".py",
   "mimetype": "text/x-python",
   "name": "python",
   "nbconvert_exporter": "python",
   "pygments_lexer": "ipython3",
   "version": "3.8.5"
  },
  "varInspector": {
   "cols": {
    "lenName": 16,
    "lenType": 16,
    "lenVar": 40
   },
   "kernels_config": {
    "python": {
     "delete_cmd_postfix": "",
     "delete_cmd_prefix": "del ",
     "library": "var_list.py",
     "varRefreshCmd": "print(var_dic_list())"
    },
    "r": {
     "delete_cmd_postfix": ") ",
     "delete_cmd_prefix": "rm(",
     "library": "var_list.r",
     "varRefreshCmd": "cat(var_dic_list()) "
    }
   },
   "types_to_exclude": [
    "module",
    "function",
    "builtin_function_or_method",
    "instance",
    "_Feature"
   ],
   "window_display": false
  }
 },
 "nbformat": 4,
 "nbformat_minor": 4
}
