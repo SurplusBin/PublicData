{
 "cells": [
  {
   "cell_type": "code",
   "execution_count": null,
   "metadata": {
    "ExecuteTime": {
     "end_time": "2021-11-13T00:24:14.483529Z",
     "start_time": "2021-11-13T00:24:13.829193Z"
    }
   },
   "outputs": [],
   "source": [
    "import PublicDataReader as pdr\n",
    "from config import OpenAPI\n",
    "import pandas as pd\n",
    "\n",
    "# DataFrame 디스플레이 설정\n",
    "pd.set_option('display.max_columns', 250)\n",
    "pd.set_option('display.max_rows', 250)\n",
    "pd.set_option('display.width', 100)\n",
    "\n",
    "print(pdr.__all__)\n",
    "print(pdr.__version__)\n",
    "# print(pdr.__info__)"
   ]
  },
  {
   "cell_type": "code",
   "execution_count": null,
   "metadata": {
    "ExecuteTime": {
     "end_time": "2021-11-13T00:08:44.426497Z",
     "start_time": "2021-11-13T00:08:44.420488Z"
    }
   },
   "outputs": [],
   "source": [
    "serviceKey = OpenAPI['molit']"
   ]
  },
  {
   "cell_type": "code",
   "execution_count": null,
   "metadata": {
    "ExecuteTime": {
     "end_time": "2021-11-13T00:08:46.089259Z",
     "start_time": "2021-11-13T00:08:45.175834Z"
    }
   },
   "outputs": [],
   "source": [
    "molit = pdr.Transaction(serviceKey, debug=True)"
   ]
  },
  {
   "cell_type": "code",
   "execution_count": null,
   "metadata": {
    "ExecuteTime": {
     "end_time": "2021-11-13T00:13:23.648486Z",
     "start_time": "2021-11-13T00:13:21.503287Z"
    }
   },
   "outputs": [],
   "source": [
    "prod = \"아파트\"\n",
    "trans = \"전월세\"\n",
    "\n",
    "df = molit.read_data(prod, trans, \"41135\", \"202110\")"
   ]
  },
  {
   "cell_type": "markdown",
   "metadata": {},
   "source": [
    "## Semas Class"
   ]
  },
  {
   "cell_type": "code",
   "execution_count": null,
   "metadata": {},
   "outputs": [],
   "source": [
    "serviceKey = OpenAPI['molit']\n",
    "semas = pdr.StoreInfo(serviceKey, debug=True)"
   ]
  },
  {
   "cell_type": "markdown",
   "metadata": {},
   "source": [
    "## Transaction Class"
   ]
  },
  {
   "cell_type": "code",
   "execution_count": null,
   "metadata": {
    "ExecuteTime": {
     "end_time": "2021-11-12T05:49:53.941819Z",
     "start_time": "2021-11-12T05:49:53.849819Z"
    }
   },
   "outputs": [],
   "source": [
    "# 법정동코드 목록\n",
    "code = pdr.code_list()\n",
    "code.head()"
   ]
  },
  {
   "cell_type": "code",
   "execution_count": null,
   "metadata": {
    "ExecuteTime": {
     "end_time": "2021-11-12T08:30:46.913015Z",
     "start_time": "2021-11-12T08:30:33.172717Z"
    },
    "scrolled": false
   },
   "outputs": [],
   "source": [
    "# 공공 데이터 포털 Open API 서비스키\n",
    "serviceKey = OpenAPI['molit']\n",
    "self = pdr.Transaction(serviceKey, debug=True)\n",
    "\n",
    "prod=\"아파트\"\n",
    "trans=\"매매\"\n",
    "sigunguCode=\"41135\"\n",
    "yearMonth=\"202101\"\n",
    "\n",
    "df = self.read_data(prod, trans, sigunguCode, yearMonth)\n",
    "df2 = self.collect_data(prod, trans, sigunguCode, \"202101\", \"202103\")"
   ]
  },
  {
   "cell_type": "code",
   "execution_count": null,
   "metadata": {},
   "outputs": [],
   "source": []
  },
  {
   "cell_type": "code",
   "execution_count": null,
   "metadata": {},
   "outputs": [],
   "source": []
  },
  {
   "cell_type": "markdown",
   "metadata": {},
   "source": [
    "## Building Class"
   ]
  },
  {
   "cell_type": "code",
   "execution_count": null,
   "metadata": {
    "ExecuteTime": {
     "end_time": "2021-11-13T00:24:47.878797Z",
     "start_time": "2021-11-13T00:24:47.869799Z"
    },
    "scrolled": true
   },
   "outputs": [],
   "source": [
    "# 공공 데이터 포털 Open API 서비스키\n",
    "serviceKey = OpenAPI['molit']\n",
    "self = pdr.Building(serviceKey, debug=True)"
   ]
  },
  {
   "cell_type": "code",
   "execution_count": null,
   "metadata": {
    "ExecuteTime": {
     "end_time": "2021-11-13T00:25:18.473226Z",
     "start_time": "2021-11-13T00:25:18.322355Z"
    },
    "scrolled": true
   },
   "outputs": [],
   "source": [
    "category = \"오수정화시설\"\n",
    "\n",
    "sigunguCd = \"41135\"\n",
    "bjdongCd = \"11000\"\n",
    "bun = \"0542\"\n",
    "ji = \"0000\"\n",
    "\n",
    "df = self.read_data(category, sigunguCd=sigunguCd, bjdongCd=bjdongCd, bun=bun, ji=ji)\n",
    "df"
   ]
  },
  {
   "cell_type": "code",
   "execution_count": null,
   "metadata": {
    "ExecuteTime": {
     "end_time": "2021-11-13T00:28:23.933740Z",
     "start_time": "2021-11-13T00:26:13.602612Z"
    },
    "scrolled": true
   },
   "outputs": [],
   "source": [
    "sigunguCd = \"41135\"\n",
    "bjdongCd = \"11000\"\n",
    "bun = \"0542\"\n",
    "ji = \"0000\"\n",
    "for category in self.metaDict.keys():\n",
    "    print(f\">>>>>> {category}\")\n",
    "    df = self.read_data(category, sigunguCd=sigunguCd, bjdongCd=bjdongCd, bun=bun, ji=ji)\n",
    "    print(df.head(1))"
   ]
  },
  {
   "cell_type": "code",
   "execution_count": null,
   "metadata": {},
   "outputs": [],
   "source": []
  },
  {
   "cell_type": "code",
   "execution_count": null,
   "metadata": {},
   "outputs": [],
   "source": []
  },
  {
   "cell_type": "markdown",
   "metadata": {},
   "source": [
    "## 컬럼 리스트 추출"
   ]
  },
  {
   "cell_type": "code",
   "execution_count": null,
   "metadata": {
    "ExecuteTime": {
     "end_time": "2021-11-10T08:30:22.486468Z",
     "start_time": "2021-11-10T08:30:15.941628Z"
    },
    "scrolled": true
   },
   "outputs": [],
   "source": [
    "# LAWD_CD=11680\n",
    "# DEAL_YMD=202110\n",
    "\n",
    "\n",
    "# for prod in ['아파트','오피스텔','단독다가구','연립다세대','상업업무용','분양입주권','토지']:\n",
    "#     for trans in ['매매', '전월세']:\n",
    "#         try:\n",
    "#             print()\n",
    "#             print(f\">> {prod} {trans}\")\n",
    "#             print()\n",
    "#             service_url = self.metaDict[prod][trans]['url']\n",
    "\n",
    "#             # URL\n",
    "#             url=f\"\"\"\\\n",
    "# {service_url}\\\n",
    "# &LAWD_CD={str(LAWD_CD)}\\\n",
    "# &DEAL_YMD={str(DEAL_YMD)}\\\n",
    "# &numOfRows=99999\\\n",
    "#             \"\"\"\n",
    "\n",
    "#             result = requests.get(url, verify=False)\n",
    "#             xmlsoup = BeautifulSoup(result.text, \"lxml-xml\")\n",
    "#             item = xmlsoup.find(\"item\")\n",
    "\n",
    "#             col_list = []\n",
    "#             for i in item:\n",
    "#                 col_list.append(i.name)\n",
    "#             for col in col_list: \n",
    "#                 print(f\"'{col}'\", end=',')\n",
    "                \n",
    "#         except:\n",
    "#             print(\"Error\")\n",
    "#             pass"
   ]
  },
  {
   "cell_type": "markdown",
   "metadata": {},
   "source": [
    "### Features\n",
    "\n",
    "- 공통\n",
    "\n",
    "    - 로깅 기능\n",
    "        - 세션 초기화 시 `debug` 인자 추가\n",
    "            - False(Default): 오류 레벨만 출력\n",
    "            - True: 모든 레벨 출력\n",
    "        - OPEN API 에러 코드 출력\n",
    "\n",
    "    - Air Korea Open API 모듈 제거\n",
    "    \n",
    "    - 법정동코드 테이블 조회 함수 추가\n",
    "\n",
    "- 부동산 실거래가\n",
    "\n",
    "    - 데이터 조회 메서드 일원화\n",
    "        - molit.read_data('아파트', '매매', '11680', '202111')\n",
    "            - 서비스별 End-point 및 컬럼 매핑 딕셔너리 추가\n",
    "    - 데이터 수집 메서드 신규 메서드 추가\n",
    "        - molit.collect_data('아파트', '매매', '11680', '202101', '202103')\n",
    "\n",
    "- 건축물대장\n",
    "    \n",
    "    - 데이터 조회 메서드 일원화\n",
    "        - molit.read_data(category, sigunguCd=sigunguCd, bjdongCd=bjdongCd, bun=bun, ji=ji)"
   ]
  }
 ],
 "metadata": {
  "hide_input": false,
  "kernelspec": {
   "display_name": "Python 3",
   "language": "python",
   "name": "python3"
  },
  "language_info": {
   "codemirror_mode": {
    "name": "ipython",
    "version": 3
   },
   "file_extension": ".py",
   "mimetype": "text/x-python",
   "name": "python",
   "nbconvert_exporter": "python",
   "pygments_lexer": "ipython3",
   "version": "3.8.8"
  },
  "toc": {
   "base_numbering": 1,
   "nav_menu": {},
   "number_sections": true,
   "sideBar": true,
   "skip_h1_title": false,
   "title_cell": "Table of Contents",
   "title_sidebar": "Contents",
   "toc_cell": false,
   "toc_position": {},
   "toc_section_display": true,
   "toc_window_display": false
  },
  "varInspector": {
   "cols": {
    "lenName": 16,
    "lenType": 16,
    "lenVar": 40
   },
   "kernels_config": {
    "python": {
     "delete_cmd_postfix": "",
     "delete_cmd_prefix": "del ",
     "library": "var_list.py",
     "varRefreshCmd": "print(var_dic_list())"
    },
    "r": {
     "delete_cmd_postfix": ") ",
     "delete_cmd_prefix": "rm(",
     "library": "var_list.r",
     "varRefreshCmd": "cat(var_dic_list()) "
    }
   },
   "types_to_exclude": [
    "module",
    "function",
    "builtin_function_or_method",
    "instance",
    "_Feature"
   ],
   "window_display": false
  }
 },
 "nbformat": 4,
 "nbformat_minor": 4
}
