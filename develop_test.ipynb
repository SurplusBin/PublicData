{
 "cells": [
  {
   "cell_type": "code",
   "execution_count": 1,
   "metadata": {
    "ExecuteTime": {
     "end_time": "2021-11-12T01:11:57.065119Z",
     "start_time": "2021-11-12T01:11:56.660096Z"
    }
   },
   "outputs": [
    {
     "name": "stdout",
     "output_type": "stream",
     "text": [
      "['__version__', '__info__', 'Transaction', 'Building', 'code_list']\n",
      "2021.11.\n",
      "- Author : Wooil Jeong\n",
      "- E-mail : wooil@kakao.com\n",
      "- Github : https://github.com/WooilJeong/PublicDataReader\n",
      "- Blog : https://wooiljeong.github.io\n"
     ]
    }
   ],
   "source": [
    "import PublicDataReader as pdr\n",
    "from config import OpenAPI\n",
    "import pandas as pd\n",
    "\n",
    "# DataFrame 디스플레이 설정\n",
    "pd.set_option('display.max_columns', 250)\n",
    "pd.set_option('display.max_rows', 250)\n",
    "pd.set_option('display.width', 100)\n",
    "\n",
    "print(pdr.__all__)\n",
    "print(pdr.__version__)\n",
    "print(pdr.__info__)"
   ]
  },
  {
   "cell_type": "code",
   "execution_count": null,
   "metadata": {
    "ExecuteTime": {
     "end_time": "2021-11-12T00:51:36.619133Z",
     "start_time": "2021-11-12T00:51:36.556920Z"
    }
   },
   "outputs": [],
   "source": [
    "# 법정동코드 목록\n",
    "code = pdr.code_list()"
   ]
  },
  {
   "cell_type": "code",
   "execution_count": null,
   "metadata": {
    "ExecuteTime": {
     "end_time": "2021-11-12T00:51:38.622259Z",
     "start_time": "2021-11-12T00:51:38.128924Z"
    },
    "scrolled": false
   },
   "outputs": [],
   "source": [
    "# 공공 데이터 포털 Open API 서비스키\n",
    "serviceKey = OpenAPI['molit']\n",
    "self = pdr.Transaction(serviceKey, debug=True)"
   ]
  },
  {
   "cell_type": "code",
   "execution_count": null,
   "metadata": {
    "ExecuteTime": {
     "end_time": "2021-11-11T23:39:42.975760Z",
     "start_time": "2021-11-11T23:39:39.081183Z"
    },
    "scrolled": true
   },
   "outputs": [],
   "source": [
    "prod=\"아파트\"\n",
    "trans=\"매매\"\n",
    "sigunguCode=\"41135\"\n",
    "yearMonth=\"202101\"\n",
    "\n",
    "df = self.read_data(prod, trans, sigunguCode, yearMonth)\n",
    "df"
   ]
  },
  {
   "cell_type": "code",
   "execution_count": null,
   "metadata": {
    "ExecuteTime": {
     "end_time": "2021-11-11T23:41:32.348238Z",
     "start_time": "2021-11-11T23:39:45.532102Z"
    },
    "scrolled": true
   },
   "outputs": [],
   "source": [
    "df = self.collect_data(prod, trans, sigunguCode, \"201901\", \"202111\")\n",
    "df"
   ]
  },
  {
   "cell_type": "markdown",
   "metadata": {},
   "source": [
    "## Building Class"
   ]
  },
  {
   "cell_type": "code",
   "execution_count": 11,
   "metadata": {
    "ExecuteTime": {
     "end_time": "2021-11-12T01:16:01.183573Z",
     "start_time": "2021-11-12T01:16:01.177573Z"
    }
   },
   "outputs": [],
   "source": [
    "import pandas as pd\n",
    "import numpy as np\n",
    "from dateutil.relativedelta import relativedelta\n",
    "import datetime\n",
    "import logging\n",
    "import requests\n",
    "from bs4 import BeautifulSoup"
   ]
  },
  {
   "cell_type": "code",
   "execution_count": 12,
   "metadata": {
    "ExecuteTime": {
     "end_time": "2021-11-12T01:16:02.547691Z",
     "start_time": "2021-11-12T01:16:02.539693Z"
    }
   },
   "outputs": [],
   "source": [
    "def read_data(self, category, **kwargs):\n",
    "    \n",
    "    # 엔드포인트, 파라미터 및 컬럼 목록 매핑\n",
    "    try:\n",
    "        endpoint = self.metaDict[category]['url']\n",
    "        parameters = self.metaDict[category]['parameters']\n",
    "        columns = self.metaDict[category]['columns']\n",
    "    except:\n",
    "        self.logger.error(f\"{category} 참조 오류\")\n",
    "        return\n",
    "\n",
    "    try:\n",
    "        params = \"\"\n",
    "        for key, value in kwargs.items():\n",
    "            params += f\"&{key}={value}\"\n",
    "    except:\n",
    "        self.logger.error(f\"{category} 파라미터 파싱 오류\")\n",
    "        return\n",
    "    \n",
    "    try:\n",
    "        # URL\n",
    "        url=f\"\"\"{endpoint}{params}&numOfRows=99999\"\"\"\n",
    "        \n",
    "        print(url)\n",
    "\n",
    "        # Open API 호출\n",
    "        result = requests.get(url, verify=False)\n",
    "        xmlsoup = BeautifulSoup(result.text, \"lxml-xml\")\n",
    "        header = xmlsoup.find(\"header\")\n",
    "        result_code = header.find(\"resultCode\").text\n",
    "        result_msg = header.find(\"resultMsg\").text\n",
    "        items = xmlsoup.findAll(\"item\")\n",
    "\n",
    "    except:\n",
    "        self.logger.error(f\"Open API 호출 오류\")\n",
    "        return\n",
    "    \n",
    "    if result_code == \"00\":\n",
    "        \"\"\"\n",
    "        결과 정상\n",
    "        \"\"\"\n",
    "        # 데이터프레임 생성\n",
    "        try:\n",
    "            df = pd.DataFrame()\n",
    "            for item in items:\n",
    "                row = {}\n",
    "                for col in columns:\n",
    "                    try:\n",
    "                        tag = item.find(col)\n",
    "                        row[col] = tag.text.strip()\n",
    "                    except:\n",
    "                        row[col] = \"\"\n",
    "                df_ = pd.DataFrame([row])\n",
    "                df = df.append(df_)\n",
    "\n",
    "            if len(df) != 0:\n",
    "                df = df[columns]\n",
    "                df.index = range(len(df))\n",
    "            else:\n",
    "                self.logger.info(f\"조회 결과 없음\")\n",
    "                return pd.DataFrame(columns=columns)\n",
    "\n",
    "        except:\n",
    "            self.logger.error(f\"조회 로직 오류\")\n",
    "            return\n",
    "\n",
    "    else:\n",
    "        \"\"\"\n",
    "        결과 에러\n",
    "        \"\"\"\n",
    "        self.logger.error(f\"({result_code}) {result_msg}\")\n",
    "        return\n",
    "\n",
    "    return df"
   ]
  },
  {
   "cell_type": "code",
   "execution_count": 13,
   "metadata": {
    "ExecuteTime": {
     "end_time": "2021-11-12T01:16:04.474432Z",
     "start_time": "2021-11-12T01:16:03.256637Z"
    }
   },
   "outputs": [],
   "source": [
    "# 공공 데이터 포털 Open API 서비스키\n",
    "serviceKey = OpenAPI['molit']\n",
    "self = pdr.Building(serviceKey, debug=False)"
   ]
  },
  {
   "cell_type": "code",
   "execution_count": null,
   "metadata": {},
   "outputs": [],
   "source": [
    "self.getBrExposInfo()"
   ]
  },
  {
   "cell_type": "code",
   "execution_count": 23,
   "metadata": {
    "ExecuteTime": {
     "end_time": "2021-11-12T01:18:23.532248Z",
     "start_time": "2021-11-12T01:18:23.410279Z"
    }
   },
   "outputs": [
    {
     "name": "stdout",
     "output_type": "stream",
     "text": [
      "http://apis.data.go.kr/1613000/BldRgstService_v2/getBrExposInfo?serviceKey=3jDBC6n6Bic0TceuOPjhpDuHrsAVl7czZAMq3Q1wQxGVgkfgUJjISPts8tiBqBT1TgY5S0LaeRb4d7Qk5vKMvA%3D%3D&sigunguCd=41135&bjdongCd=11000&bun=0541&ji=0000&numOfRows=99999\n"
     ]
    },
    {
     "data": {
      "text/html": [
       "<div>\n",
       "<style scoped>\n",
       "    .dataframe tbody tr th:only-of-type {\n",
       "        vertical-align: middle;\n",
       "    }\n",
       "\n",
       "    .dataframe tbody tr th {\n",
       "        vertical-align: top;\n",
       "    }\n",
       "\n",
       "    .dataframe thead th {\n",
       "        text-align: right;\n",
       "    }\n",
       "</style>\n",
       "<table border=\"1\" class=\"dataframe\">\n",
       "  <thead>\n",
       "    <tr style=\"text-align: right;\">\n",
       "      <th></th>\n",
       "      <th>bjdongCd</th>\n",
       "      <th>bldNm</th>\n",
       "      <th>block</th>\n",
       "      <th>bun</th>\n",
       "      <th>crtnDay</th>\n",
       "      <th>dongNm</th>\n",
       "      <th>flrGbCd</th>\n",
       "      <th>flrGbCdNm</th>\n",
       "      <th>flrNo</th>\n",
       "      <th>hoNm</th>\n",
       "      <th>ji</th>\n",
       "      <th>lot</th>\n",
       "      <th>mgmBldrgstPk</th>\n",
       "      <th>naBjdongCd</th>\n",
       "      <th>naMainBun</th>\n",
       "      <th>naRoadCd</th>\n",
       "      <th>naSubBun</th>\n",
       "      <th>naUgrndCd</th>\n",
       "      <th>newPlatPlc</th>\n",
       "      <th>platGbCd</th>\n",
       "      <th>platPlc</th>\n",
       "      <th>regstrGbCd</th>\n",
       "      <th>regstrGbCdNm</th>\n",
       "      <th>regstrKindCd</th>\n",
       "      <th>regstrKindCdNm</th>\n",
       "      <th>rnum</th>\n",
       "      <th>sigunguCd</th>\n",
       "      <th>splotNm</th>\n",
       "    </tr>\n",
       "  </thead>\n",
       "  <tbody>\n",
       "  </tbody>\n",
       "</table>\n",
       "</div>"
      ],
      "text/plain": [
       "Empty DataFrame\n",
       "Columns: [bjdongCd, bldNm, block, bun, crtnDay, dongNm, flrGbCd, flrGbCdNm, flrNo, hoNm, ji, lot, mgmBldrgstPk, naBjdongCd, naMainBun, naRoadCd, naSubBun, naUgrndCd, newPlatPlc, platGbCd, platPlc, regstrGbCd, regstrGbCdNm, regstrKindCd, regstrKindCdNm, rnum, sigunguCd, splotNm]\n",
       "Index: []"
      ]
     },
     "execution_count": 23,
     "metadata": {},
     "output_type": "execute_result"
    }
   ],
   "source": [
    "df = read_data(self, \"전유부\", sigunguCd='41135', bjdongCd='11000', bun='0541', ji='0000')\n",
    "df"
   ]
  },
  {
   "cell_type": "code",
   "execution_count": null,
   "metadata": {
    "ExecuteTime": {
     "end_time": "2021-11-12T01:09:24.021044Z",
     "start_time": "2021-11-12T01:09:24.004044Z"
    }
   },
   "outputs": [],
   "source": [
    "kwargs = {\n",
    "    \"sigunguCd\": 41135,\n",
    "    \"bjdongCd\": \"11000\",\n",
    "    \"bun\": \"0541\",\n",
    "    \"ji\": \"0000\"\n",
    "}"
   ]
  },
  {
   "cell_type": "code",
   "execution_count": null,
   "metadata": {
    "ExecuteTime": {
     "end_time": "2021-11-12T00:52:08.865302Z",
     "start_time": "2021-11-12T00:52:08.855300Z"
    }
   },
   "outputs": [],
   "source": [
    "# 건축물대장 항목\n",
    "category = \"기본개요\"\n",
    "\n",
    "url = self.metaDict[category]['url']\n",
    "parameters = self.metaDict[category]['parameters']\n",
    "columns = self.metaDict[category]['columns']\n",
    "\n"
   ]
  },
  {
   "cell_type": "code",
   "execution_count": null,
   "metadata": {
    "ExecuteTime": {
     "end_time": "2021-11-12T00:53:57.650172Z",
     "start_time": "2021-11-12T00:53:57.642173Z"
    }
   },
   "outputs": [],
   "source": [
    "sigunguCd = \"41135\"\n",
    "bjdongCd = \"11000\"\n",
    "bun = \"541\".zfill(4)\n",
    "ji = \"\".zfill(4)\n",
    "\n",
    "test(sigunguCd=sigunguCd, bjdongCd=bjdongCd, bun=bun, ji=ji)"
   ]
  },
  {
   "cell_type": "code",
   "execution_count": null,
   "metadata": {},
   "outputs": [],
   "source": [
    "    # 엔드포인트 및 컬럼 목록 매핑\n",
    "    try:\n",
    "        endpoint = self.metaDict[prod][trans]['url']\n",
    "        parameters = self.metaDict[category]['parameters']\n",
    "        columns = self.metaDict[prod][trans]['columns']\n",
    "    except:\n",
    "        self.logger.error(f\"{prod} {trans} 참조 오류\")\n",
    "        return\n",
    "\n",
    "    try:\n",
    "        # URL\n",
    "        url=f\"\"\"{endpoint}&LAWD_CD={str(sigunguCode)}&DEAL_YMD={str(yearMonth)}&numOfRows=99999\"\"\"\n",
    "        # Open API 호출\n",
    "        result = requests.get(url, verify=False)\n",
    "        xmlsoup = BeautifulSoup(result.text, \"lxml-xml\")\n",
    "        header = xmlsoup.find(\"header\")\n",
    "        result_code = header.find(\"resultCode\").text\n",
    "        result_msg = header.find(\"resultMsg\").text\n",
    "        items = xmlsoup.findAll(\"item\")\n",
    "\n",
    "    except:\n",
    "        self.logger.error(f\"Open API 호출 오류\")\n",
    "        return\n",
    "\n",
    "    if result_code == \"00\":\n",
    "        \"\"\"\n",
    "        결과 정상\n",
    "        \"\"\"\n",
    "        # 데이터프레임 생성\n",
    "        try:\n",
    "            df = pd.DataFrame()\n",
    "            for item in items:\n",
    "                row = {}\n",
    "                for col in columns:\n",
    "                    try:\n",
    "                        tag = item.find(col)\n",
    "                        row[col] = tag.text.strip()\n",
    "                    except:\n",
    "                        row[col] = \"\"\n",
    "                df_ = pd.DataFrame([row])\n",
    "                df = df.append(df_)\n",
    "\n",
    "            if len(df) != 0:\n",
    "                df = df[columns]\n",
    "                df.index = range(len(df))\n",
    "            else:\n",
    "                self.logger.info(f\"조회 결과 없음\")\n",
    "                return pd.DataFrame(columns=columns)\n",
    "\n",
    "        except:\n",
    "            self.logger.error(f\"조회 로직 오류\")\n",
    "            return\n",
    "\n",
    "    else:\n",
    "        \"\"\"\n",
    "        결과 에러\n",
    "        \"\"\"\n",
    "        self.logger.error(f\"({result_code}) {result_msg}\")\n",
    "        return\n",
    "\n",
    "    return df"
   ]
  },
  {
   "cell_type": "code",
   "execution_count": null,
   "metadata": {},
   "outputs": [],
   "source": []
  },
  {
   "cell_type": "code",
   "execution_count": null,
   "metadata": {},
   "outputs": [],
   "source": []
  },
  {
   "cell_type": "code",
   "execution_count": null,
   "metadata": {
    "ExecuteTime": {
     "end_time": "2021-11-11T09:58:36.411699Z",
     "start_time": "2021-11-11T09:58:36.292700Z"
    }
   },
   "outputs": [],
   "source": [
    "# Sample Parameter - (판교 현대백화점)\n",
    "# 시군구코드(5)\n",
    "sigunguCd = \"41135\"\n",
    "# 읍면동코드(5)\n",
    "bjdongCd = \"11000\"\n",
    "# 본번\n",
    "bun = \"541\".zfill(4)\n",
    "# 부번\n",
    "ji = \"\".zfill(4)\n",
    "\n",
    "# (Operaion 01) 기본개요\n",
    "df1 = self.getBrBasisOulnInfo(\n",
    "    sigunguCd_=sigunguCd,\n",
    "    bjdongCd_=bjdongCd,\n",
    "    platGbCd_=\"0\",\n",
    "    bun_=bun,\n",
    "    ji_=ji,\n",
    "    startDate_=\"\",\n",
    "    endDate_=\"\"\n",
    ")\n",
    "df1 = self.ChangeCols(df1, \"getBrBasisOulnInfo\")"
   ]
  },
  {
   "cell_type": "code",
   "execution_count": null,
   "metadata": {},
   "outputs": [],
   "source": []
  },
  {
   "cell_type": "code",
   "execution_count": null,
   "metadata": {},
   "outputs": [],
   "source": []
  },
  {
   "cell_type": "markdown",
   "metadata": {},
   "source": [
    "## Transaction Class"
   ]
  },
  {
   "cell_type": "code",
   "execution_count": null,
   "metadata": {
    "ExecuteTime": {
     "end_time": "2021-11-11T09:00:03.387370Z",
     "start_time": "2021-11-11T08:59:52.062029Z"
    },
    "scrolled": true
   },
   "outputs": [],
   "source": [
    "# 11종 데이터 조회 테스트\n",
    "sigunguCode = \"11680\"\n",
    "yearMonth = \"202110\"\n",
    "\n",
    "df_list = []\n",
    "for prod in self.metaDict.keys():\n",
    "    for trans in self.metaDict[prod].keys():\n",
    "        print()\n",
    "        print(\"▶\", prod, trans)\n",
    "        print()\n",
    "        df= self.read_data(prod, trans, sigunguCode, yearMonth)\n",
    "        df_list.append(df)\n",
    "        print(df.head(1))"
   ]
  },
  {
   "cell_type": "code",
   "execution_count": null,
   "metadata": {
    "ExecuteTime": {
     "end_time": "2021-11-11T05:25:12.528860Z",
     "start_time": "2021-11-11T05:25:12.511890Z"
    },
    "scrolled": true
   },
   "outputs": [],
   "source": [
    "prod = \"아파트\"\n",
    "trans = \"매매\"\n",
    "sigunguCode = \"11680\"\n",
    "yearMonth = \"202110\"\n",
    "startYearMonth = \"202101\"\n",
    "endYearMonth = \"202103\""
   ]
  },
  {
   "cell_type": "code",
   "execution_count": null,
   "metadata": {
    "ExecuteTime": {
     "end_time": "2021-11-11T05:25:16.246768Z",
     "start_time": "2021-11-11T05:25:13.615458Z"
    }
   },
   "outputs": [],
   "source": [
    "df = self.read_data(prod, trans, sigunguCode, yearMonth)\n",
    "df"
   ]
  },
  {
   "cell_type": "code",
   "execution_count": null,
   "metadata": {
    "ExecuteTime": {
     "end_time": "2021-11-11T05:25:31.594440Z",
     "start_time": "2021-11-11T05:25:23.325812Z"
    },
    "scrolled": true
   },
   "outputs": [],
   "source": [
    "df_sum = self.collect_data(prod, trans, sigunguCode, startYearMonth, endYearMonth)\n",
    "df_sum"
   ]
  },
  {
   "cell_type": "markdown",
   "metadata": {},
   "source": [
    "## 컬럼 리스트 추출"
   ]
  },
  {
   "cell_type": "code",
   "execution_count": null,
   "metadata": {
    "ExecuteTime": {
     "end_time": "2021-11-10T08:30:22.486468Z",
     "start_time": "2021-11-10T08:30:15.941628Z"
    },
    "scrolled": true
   },
   "outputs": [],
   "source": [
    "# LAWD_CD=11680\n",
    "# DEAL_YMD=202110\n",
    "\n",
    "\n",
    "# for prod in ['아파트','오피스텔','단독다가구','연립다세대','상업업무용','분양입주권','토지']:\n",
    "#     for trans in ['매매', '전월세']:\n",
    "#         try:\n",
    "#             print()\n",
    "#             print(f\">> {prod} {trans}\")\n",
    "#             print()\n",
    "#             service_url = self.metaDict[prod][trans]['url']\n",
    "\n",
    "#             # URL\n",
    "#             url=f\"\"\"\\\n",
    "# {service_url}\\\n",
    "# &LAWD_CD={str(LAWD_CD)}\\\n",
    "# &DEAL_YMD={str(DEAL_YMD)}\\\n",
    "# &numOfRows=99999\\\n",
    "#             \"\"\"\n",
    "\n",
    "#             result = requests.get(url, verify=False)\n",
    "#             xmlsoup = BeautifulSoup(result.text, \"lxml-xml\")\n",
    "#             item = xmlsoup.find(\"item\")\n",
    "\n",
    "#             col_list = []\n",
    "#             for i in item:\n",
    "#                 col_list.append(i.name)\n",
    "#             for col in col_list: \n",
    "#                 print(f\"'{col}'\", end=',')\n",
    "                \n",
    "#         except:\n",
    "#             print(\"Error\")\n",
    "#             pass"
   ]
  },
  {
   "cell_type": "markdown",
   "metadata": {},
   "source": [
    "### Features\n",
    "\n",
    "- 공통\n",
    "\n",
    "    - 로깅 기능\n",
    "        - 세션 초기화 시 `debug` 인자 추가\n",
    "            - False(Default): 오류 레벨만 출력\n",
    "            - True: 모든 레벨 출력\n",
    "        - OPEN API 에러 코드 출력\n",
    "\n",
    "    - Air Korea Open API 모듈 제거\n",
    "    \n",
    "    - 법정동코드 테이블 조회 함수 추가\n",
    "\n",
    "- 부동산 실거래가\n",
    "\n",
    "    - Operation 별 조회 항목 수정\n",
    "        - 매매자료 '해제사유발생일' 항목 추가\n",
    "        - 거래유형, 중개사소재지 항목 추가\n",
    "    - 데이터 조회 메서드 일원화\n",
    "        - molit.read_data('아파트', '매매', '11680', '202111')\n",
    "            - 서비스별 End-point 및 컬럼 매핑 딕셔너리 추가\n",
    "    - 데이터 수집 메서드 신규 메서드 추가\n",
    "        - molit.collect_data('아파트', '매매', '11680', '202101', '202103')\n",
    "\n",
    "- 건축물대장\n",
    "\n"
   ]
  }
 ],
 "metadata": {
  "hide_input": false,
  "kernelspec": {
   "display_name": "Python 3",
   "language": "python",
   "name": "python3"
  },
  "language_info": {
   "codemirror_mode": {
    "name": "ipython",
    "version": 3
   },
   "file_extension": ".py",
   "mimetype": "text/x-python",
   "name": "python",
   "nbconvert_exporter": "python",
   "pygments_lexer": "ipython3",
   "version": "3.8.5"
  },
  "varInspector": {
   "cols": {
    "lenName": 16,
    "lenType": 16,
    "lenVar": 40
   },
   "kernels_config": {
    "python": {
     "delete_cmd_postfix": "",
     "delete_cmd_prefix": "del ",
     "library": "var_list.py",
     "varRefreshCmd": "print(var_dic_list())"
    },
    "r": {
     "delete_cmd_postfix": ") ",
     "delete_cmd_prefix": "rm(",
     "library": "var_list.r",
     "varRefreshCmd": "cat(var_dic_list()) "
    }
   },
   "types_to_exclude": [
    "module",
    "function",
    "builtin_function_or_method",
    "instance",
    "_Feature"
   ],
   "window_display": false
  }
 },
 "nbformat": 4,
 "nbformat_minor": 4
}
