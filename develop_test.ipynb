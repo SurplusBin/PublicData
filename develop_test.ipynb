{
 "cells": [
  {
   "cell_type": "code",
   "execution_count": 1,
   "metadata": {
    "ExecuteTime": {
     "end_time": "2021-11-11T08:59:11.318419Z",
     "start_time": "2021-11-11T08:59:10.893461Z"
    }
   },
   "outputs": [
    {
     "name": "stdout",
     "output_type": "stream",
     "text": [
      "['__version__', '__info__', 'Transaction', 'Building', 'code_list']\n",
      "2021.11.\n",
      "- Author : Wooil Jeong\n",
      "- E-mail : wooil@kakao.com\n",
      "- Github : https://github.com/WooilJeong/PublicDataReader\n",
      "- Blog : https://wooiljeong.github.io\n"
     ]
    }
   ],
   "source": [
    "import PublicDataReader as pdr\n",
    "from config import OpenAPI\n",
    "import pandas as pd\n",
    "\n",
    "# DataFrame 디스플레이 설정\n",
    "pd.set_option('display.max_columns', 250)\n",
    "pd.set_option('display.max_rows', 250)\n",
    "pd.set_option('display.width', 100)\n",
    "\n",
    "print(pdr.__all__)\n",
    "print(pdr.__version__)\n",
    "print(pdr.__info__)"
   ]
  },
  {
   "cell_type": "code",
   "execution_count": 2,
   "metadata": {
    "ExecuteTime": {
     "end_time": "2021-11-11T08:59:11.764319Z",
     "start_time": "2021-11-11T08:59:11.690218Z"
    }
   },
   "outputs": [
    {
     "data": {
      "text/html": [
       "<div>\n",
       "<style scoped>\n",
       "    .dataframe tbody tr th:only-of-type {\n",
       "        vertical-align: middle;\n",
       "    }\n",
       "\n",
       "    .dataframe tbody tr th {\n",
       "        vertical-align: top;\n",
       "    }\n",
       "\n",
       "    .dataframe thead th {\n",
       "        text-align: right;\n",
       "    }\n",
       "</style>\n",
       "<table border=\"1\" class=\"dataframe\">\n",
       "  <thead>\n",
       "    <tr style=\"text-align: right;\">\n",
       "      <th></th>\n",
       "      <th>시도코드</th>\n",
       "      <th>시도명</th>\n",
       "      <th>시군구코드</th>\n",
       "      <th>시군구명</th>\n",
       "      <th>법정동코드</th>\n",
       "      <th>읍면동명</th>\n",
       "      <th>동리명</th>\n",
       "      <th>생성일자</th>\n",
       "      <th>말소일자</th>\n",
       "    </tr>\n",
       "  </thead>\n",
       "  <tbody>\n",
       "    <tr>\n",
       "      <th>0</th>\n",
       "      <td>11</td>\n",
       "      <td>서울특별시</td>\n",
       "      <td>11000</td>\n",
       "      <td>NaN</td>\n",
       "      <td>1100000000</td>\n",
       "      <td>NaN</td>\n",
       "      <td>NaN</td>\n",
       "      <td>19880423</td>\n",
       "      <td>NaN</td>\n",
       "    </tr>\n",
       "    <tr>\n",
       "      <th>1</th>\n",
       "      <td>11</td>\n",
       "      <td>서울특별시</td>\n",
       "      <td>11110</td>\n",
       "      <td>종로구</td>\n",
       "      <td>1111000000</td>\n",
       "      <td>NaN</td>\n",
       "      <td>NaN</td>\n",
       "      <td>19880423</td>\n",
       "      <td>NaN</td>\n",
       "    </tr>\n",
       "    <tr>\n",
       "      <th>2</th>\n",
       "      <td>11</td>\n",
       "      <td>서울특별시</td>\n",
       "      <td>11110</td>\n",
       "      <td>종로구</td>\n",
       "      <td>1111010100</td>\n",
       "      <td>청운동</td>\n",
       "      <td>NaN</td>\n",
       "      <td>19880423</td>\n",
       "      <td>NaN</td>\n",
       "    </tr>\n",
       "    <tr>\n",
       "      <th>3</th>\n",
       "      <td>11</td>\n",
       "      <td>서울특별시</td>\n",
       "      <td>11110</td>\n",
       "      <td>종로구</td>\n",
       "      <td>1111010200</td>\n",
       "      <td>신교동</td>\n",
       "      <td>NaN</td>\n",
       "      <td>19880423</td>\n",
       "      <td>NaN</td>\n",
       "    </tr>\n",
       "    <tr>\n",
       "      <th>4</th>\n",
       "      <td>11</td>\n",
       "      <td>서울특별시</td>\n",
       "      <td>11110</td>\n",
       "      <td>종로구</td>\n",
       "      <td>1111010300</td>\n",
       "      <td>궁정동</td>\n",
       "      <td>NaN</td>\n",
       "      <td>19880423</td>\n",
       "      <td>NaN</td>\n",
       "    </tr>\n",
       "  </tbody>\n",
       "</table>\n",
       "</div>"
      ],
      "text/plain": [
       "   시도코드    시도명  시군구코드 시군구명       법정동코드 읍면동명  동리명      생성일자  말소일자\n",
       "0    11  서울특별시  11000  NaN  1100000000  NaN  NaN  19880423   NaN\n",
       "1    11  서울특별시  11110  종로구  1111000000  NaN  NaN  19880423   NaN\n",
       "2    11  서울특별시  11110  종로구  1111010100  청운동  NaN  19880423   NaN\n",
       "3    11  서울특별시  11110  종로구  1111010200  신교동  NaN  19880423   NaN\n",
       "4    11  서울특별시  11110  종로구  1111010300  궁정동  NaN  19880423   NaN"
      ]
     },
     "execution_count": 2,
     "metadata": {},
     "output_type": "execute_result"
    }
   ],
   "source": [
    "# 법정동코드 목록\n",
    "code = pdr.code_list()\n",
    "code.head()"
   ]
  },
  {
   "cell_type": "code",
   "execution_count": 3,
   "metadata": {
    "ExecuteTime": {
     "end_time": "2021-11-11T08:59:12.629638Z",
     "start_time": "2021-11-11T08:59:12.142492Z"
    },
    "scrolled": false
   },
   "outputs": [
    {
     "name": "stderr",
     "output_type": "stream",
     "text": [
      "[INFO] 아파트매매 실거래자료 조회 - (00) NORMAL SERVICE.\n",
      "[INFO] 아파트매매 실거래 상세 자료 조회 - (00) NORMAL SERVICE.\n",
      "[INFO] 아파트 전월세 자료 조회 - (00) NORMAL SERVICE.\n",
      "[INFO] 아파트 분양권전매 신고 자료 조회 - (00) NORMAL SERVICE.\n",
      "[INFO] 오피스텔 매매 신고 조회 - (00) NORMAL SERVICE.\n",
      "[INFO] 오피스텔 전월세 신고 조회 - (00) NORMAL SERVICE.\n",
      "[INFO] 연립다세대 매매 실거래자료 조회 - (00) NORMAL SERVICE.\n",
      "[INFO] 연립다세대 전월세 실거래자료 조회 - (00) NORMAL SERVICE.\n",
      "[INFO] 단독/다가구 매매 실거래 조회 - (00) NORMAL SERVICE.\n",
      "[INFO] 단독/다가구 전월세 자료 조회 - (00) NORMAL SERVICE.\n",
      "[INFO] 토지 매매 신고 조회 - (00) NORMAL SERVICE.\n",
      "[INFO] 상업업무용 부동산 매매 신고 자료 조회 - (00) NORMAL SERVICE.\n"
     ]
    }
   ],
   "source": [
    "# 공공 데이터 포털 Open API 서비스키\n",
    "serviceKey = OpenAPI['molit']\n",
    "self = pdr.Transaction(serviceKey, debug=True)"
   ]
  },
  {
   "cell_type": "code",
   "execution_count": 6,
   "metadata": {
    "ExecuteTime": {
     "end_time": "2021-11-11T08:59:25.251579Z",
     "start_time": "2021-11-11T08:59:25.039639Z"
    }
   },
   "outputs": [],
   "source": [
    "prod=\"분양입주권\"\n",
    "trans=\"매매\"\n",
    "sigunguCode=\"41135\"\n",
    "yearMonth=\"202101\"\n",
    "\n",
    "df = self.read_data(prod, trans, sigunguCode, yearMonth)"
   ]
  },
  {
   "cell_type": "code",
   "execution_count": 7,
   "metadata": {
    "ExecuteTime": {
     "end_time": "2021-11-11T08:59:25.645100Z",
     "start_time": "2021-11-11T08:59:25.630099Z"
    }
   },
   "outputs": [
    {
     "data": {
      "text/html": [
       "<div>\n",
       "<style scoped>\n",
       "    .dataframe tbody tr th:only-of-type {\n",
       "        vertical-align: middle;\n",
       "    }\n",
       "\n",
       "    .dataframe tbody tr th {\n",
       "        vertical-align: top;\n",
       "    }\n",
       "\n",
       "    .dataframe thead th {\n",
       "        text-align: right;\n",
       "    }\n",
       "</style>\n",
       "<table border=\"1\" class=\"dataframe\">\n",
       "  <thead>\n",
       "    <tr style=\"text-align: right;\">\n",
       "      <th></th>\n",
       "      <th>지역코드</th>\n",
       "      <th>시군구</th>\n",
       "      <th>법정동</th>\n",
       "      <th>지번</th>\n",
       "      <th>단지</th>\n",
       "      <th>층</th>\n",
       "      <th>전용면적</th>\n",
       "      <th>구분</th>\n",
       "      <th>년</th>\n",
       "      <th>월</th>\n",
       "      <th>일</th>\n",
       "      <th>거래금액</th>\n",
       "      <th>거래유형</th>\n",
       "      <th>중개사소재지</th>\n",
       "      <th>해제사유발생일</th>\n",
       "      <th>해제여부</th>\n",
       "    </tr>\n",
       "  </thead>\n",
       "  <tbody>\n",
       "    <tr>\n",
       "      <th>0</th>\n",
       "      <td>41135</td>\n",
       "      <td>성남분당구</td>\n",
       "      <td>정자동</td>\n",
       "      <td>215</td>\n",
       "      <td>분당 더샵 파크리버</td>\n",
       "      <td>15</td>\n",
       "      <td>84.9987</td>\n",
       "      <td></td>\n",
       "      <td>2021</td>\n",
       "      <td>1</td>\n",
       "      <td>18</td>\n",
       "      <td>104,535</td>\n",
       "      <td></td>\n",
       "      <td></td>\n",
       "      <td></td>\n",
       "      <td></td>\n",
       "    </tr>\n",
       "  </tbody>\n",
       "</table>\n",
       "</div>"
      ],
      "text/plain": [
       "    지역코드    시군구  법정동   지번          단지   층     전용면적 구분     년  월   일     거래금액 거래유형 중개사소재지 해제사유발생일  \\\n",
       "0  41135  성남분당구  정자동  215  분당 더샵 파크리버  15  84.9987     2021  1  18  104,535                       \n",
       "\n",
       "  해제여부  \n",
       "0       "
      ]
     },
     "execution_count": 7,
     "metadata": {},
     "output_type": "execute_result"
    }
   ],
   "source": [
    "df"
   ]
  },
  {
   "cell_type": "code",
   "execution_count": null,
   "metadata": {},
   "outputs": [],
   "source": []
  },
  {
   "cell_type": "code",
   "execution_count": null,
   "metadata": {},
   "outputs": [],
   "source": []
  },
  {
   "cell_type": "code",
   "execution_count": null,
   "metadata": {},
   "outputs": [],
   "source": []
  },
  {
   "cell_type": "markdown",
   "metadata": {},
   "source": [
    "## Building Class"
   ]
  },
  {
   "cell_type": "code",
   "execution_count": null,
   "metadata": {},
   "outputs": [],
   "source": []
  },
  {
   "cell_type": "markdown",
   "metadata": {},
   "source": [
    "## Transaction Class"
   ]
  },
  {
   "cell_type": "code",
   "execution_count": null,
   "metadata": {
    "ExecuteTime": {
     "start_time": "2021-11-11T08:59:52.060Z"
    },
    "scrolled": true
   },
   "outputs": [
    {
     "name": "stdout",
     "output_type": "stream",
     "text": [
      "\n",
      "▶ 아파트 매매\n",
      "\n"
     ]
    }
   ],
   "source": [
    "# 11종 데이터 조회 테스트\n",
    "sigunguCode = \"11680\"\n",
    "yearMonth = \"202110\"\n",
    "\n",
    "df_list = []\n",
    "for prod in self.metaDict.keys():\n",
    "    for trans in self.metaDict[prod].keys():\n",
    "        print()\n",
    "        print(\"▶\", prod, trans)\n",
    "        print()\n",
    "        df= self.read_data(prod, trans, sigunguCode, yearMonth)\n",
    "        df_list.append(df)\n",
    "        print(df.head(1))"
   ]
  },
  {
   "cell_type": "code",
   "execution_count": null,
   "metadata": {
    "ExecuteTime": {
     "end_time": "2021-11-11T05:25:12.528860Z",
     "start_time": "2021-11-11T05:25:12.511890Z"
    },
    "scrolled": true
   },
   "outputs": [],
   "source": [
    "prod = \"아파트\"\n",
    "trans = \"매매\"\n",
    "sigunguCode = \"11680\"\n",
    "yearMonth = \"202110\"\n",
    "startYearMonth = \"202101\"\n",
    "endYearMonth = \"202103\""
   ]
  },
  {
   "cell_type": "code",
   "execution_count": null,
   "metadata": {
    "ExecuteTime": {
     "end_time": "2021-11-11T05:25:16.246768Z",
     "start_time": "2021-11-11T05:25:13.615458Z"
    }
   },
   "outputs": [],
   "source": [
    "df = self.read_data(prod, trans, sigunguCode, yearMonth)\n",
    "df"
   ]
  },
  {
   "cell_type": "code",
   "execution_count": null,
   "metadata": {
    "ExecuteTime": {
     "end_time": "2021-11-11T05:25:31.594440Z",
     "start_time": "2021-11-11T05:25:23.325812Z"
    },
    "scrolled": true
   },
   "outputs": [],
   "source": [
    "df_sum = self.collect_data(prod, trans, sigunguCode, startYearMonth, endYearMonth)\n",
    "df_sum"
   ]
  },
  {
   "cell_type": "markdown",
   "metadata": {},
   "source": [
    "## 컬럼 리스트 추출"
   ]
  },
  {
   "cell_type": "code",
   "execution_count": null,
   "metadata": {
    "ExecuteTime": {
     "end_time": "2021-11-10T08:30:22.486468Z",
     "start_time": "2021-11-10T08:30:15.941628Z"
    },
    "scrolled": true
   },
   "outputs": [],
   "source": [
    "# LAWD_CD=11680\n",
    "# DEAL_YMD=202110\n",
    "\n",
    "\n",
    "# for prod in ['아파트','오피스텔','단독다가구','연립다세대','상업업무용','분양입주권','토지']:\n",
    "#     for trans in ['매매', '전월세']:\n",
    "#         try:\n",
    "#             print()\n",
    "#             print(f\">> {prod} {trans}\")\n",
    "#             print()\n",
    "#             service_url = self.metaDict[prod][trans]['url']\n",
    "\n",
    "#             # URL\n",
    "#             url=f\"\"\"\\\n",
    "# {service_url}\\\n",
    "# &LAWD_CD={str(LAWD_CD)}\\\n",
    "# &DEAL_YMD={str(DEAL_YMD)}\\\n",
    "# &numOfRows=99999\\\n",
    "#             \"\"\"\n",
    "\n",
    "#             result = requests.get(url, verify=False)\n",
    "#             xmlsoup = BeautifulSoup(result.text, \"lxml-xml\")\n",
    "#             item = xmlsoup.find(\"item\")\n",
    "\n",
    "#             col_list = []\n",
    "#             for i in item:\n",
    "#                 col_list.append(i.name)\n",
    "#             for col in col_list: \n",
    "#                 print(f\"'{col}'\", end=',')\n",
    "                \n",
    "#         except:\n",
    "#             print(\"Error\")\n",
    "#             pass"
   ]
  },
  {
   "cell_type": "code",
   "execution_count": null,
   "metadata": {},
   "outputs": [],
   "source": []
  },
  {
   "cell_type": "code",
   "execution_count": null,
   "metadata": {},
   "outputs": [],
   "source": []
  },
  {
   "cell_type": "code",
   "execution_count": null,
   "metadata": {},
   "outputs": [],
   "source": []
  },
  {
   "cell_type": "code",
   "execution_count": null,
   "metadata": {},
   "outputs": [],
   "source": []
  },
  {
   "cell_type": "code",
   "execution_count": null,
   "metadata": {},
   "outputs": [],
   "source": []
  },
  {
   "cell_type": "code",
   "execution_count": null,
   "metadata": {},
   "outputs": [],
   "source": []
  },
  {
   "cell_type": "markdown",
   "metadata": {},
   "source": [
    "### Features\n",
    "\n",
    "- 공통\n",
    "\n",
    "    - 로깅 기능\n",
    "        - 세션 초기화 시 `debug` 인자 추가\n",
    "            - False(Default): 오류 레벨만 출력\n",
    "            - True: 모든 레벨 출력\n",
    "        - OPEN API 에러 코드 출력\n",
    "\n",
    "    - Air Korea Open API 모듈 제거\n",
    "    \n",
    "    - 법정동코드 테이블 조회 함수 추가\n",
    "\n",
    "- 부동산 실거래가\n",
    "\n",
    "    - Operation 별 조회 항목 수정\n",
    "        - 매매자료 '해제사유발생일' 항목 추가\n",
    "        - 거래유형, 중개사소재지 항목 추가\n",
    "    - 데이터 조회 메서드 일원화\n",
    "        - molit.read_data('아파트', '매매', '11680', '202111')\n",
    "            - 서비스별 End-point 및 컬럼 매핑 딕셔너리 추가\n",
    "    - 데이터 수집 메서드 신규 메서드 추가\n",
    "        - molit.collect_data('아파트', '매매', '11680', '202101', '202103')\n",
    "\n",
    "- 건축물대장\n",
    "\n"
   ]
  }
 ],
 "metadata": {
  "hide_input": false,
  "kernelspec": {
   "display_name": "Python 3",
   "language": "python",
   "name": "python3"
  },
  "language_info": {
   "codemirror_mode": {
    "name": "ipython",
    "version": 3
   },
   "file_extension": ".py",
   "mimetype": "text/x-python",
   "name": "python",
   "nbconvert_exporter": "python",
   "pygments_lexer": "ipython3",
   "version": "3.8.5"
  },
  "varInspector": {
   "cols": {
    "lenName": 16,
    "lenType": 16,
    "lenVar": 40
   },
   "kernels_config": {
    "python": {
     "delete_cmd_postfix": "",
     "delete_cmd_prefix": "del ",
     "library": "var_list.py",
     "varRefreshCmd": "print(var_dic_list())"
    },
    "r": {
     "delete_cmd_postfix": ") ",
     "delete_cmd_prefix": "rm(",
     "library": "var_list.r",
     "varRefreshCmd": "cat(var_dic_list()) "
    }
   },
   "types_to_exclude": [
    "module",
    "function",
    "builtin_function_or_method",
    "instance",
    "_Feature"
   ],
   "window_display": false
  }
 },
 "nbformat": 4,
 "nbformat_minor": 4
}
