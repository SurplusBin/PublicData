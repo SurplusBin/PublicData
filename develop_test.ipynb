{
 "cells": [
  {
   "cell_type": "code",
   "execution_count": 1,
   "metadata": {
    "ExecuteTime": {
     "end_time": "2021-11-12T05:21:46.834285Z",
     "start_time": "2021-11-12T05:21:46.406320Z"
    }
   },
   "outputs": [
    {
     "name": "stdout",
     "output_type": "stream",
     "text": [
      "['__version__', '__info__', 'Transaction', 'Building', 'code_list']\n",
      "2021.11.\n"
     ]
    }
   ],
   "source": [
    "import PublicDataReader as pdr\n",
    "from config import OpenAPI\n",
    "import pandas as pd\n",
    "\n",
    "# DataFrame 디스플레이 설정\n",
    "pd.set_option('display.max_columns', 250)\n",
    "pd.set_option('display.max_rows', 250)\n",
    "pd.set_option('display.width', 100)\n",
    "\n",
    "print(pdr.__all__)\n",
    "print(pdr.__version__)\n",
    "# print(pdr.__info__)"
   ]
  },
  {
   "cell_type": "code",
   "execution_count": 2,
   "metadata": {
    "ExecuteTime": {
     "end_time": "2021-11-12T05:21:47.738140Z",
     "start_time": "2021-11-12T05:21:47.661141Z"
    }
   },
   "outputs": [
    {
     "data": {
      "text/html": [
       "<div>\n",
       "<style scoped>\n",
       "    .dataframe tbody tr th:only-of-type {\n",
       "        vertical-align: middle;\n",
       "    }\n",
       "\n",
       "    .dataframe tbody tr th {\n",
       "        vertical-align: top;\n",
       "    }\n",
       "\n",
       "    .dataframe thead th {\n",
       "        text-align: right;\n",
       "    }\n",
       "</style>\n",
       "<table border=\"1\" class=\"dataframe\">\n",
       "  <thead>\n",
       "    <tr style=\"text-align: right;\">\n",
       "      <th></th>\n",
       "      <th>시도코드</th>\n",
       "      <th>시도명</th>\n",
       "      <th>시군구코드</th>\n",
       "      <th>시군구명</th>\n",
       "      <th>법정동코드</th>\n",
       "      <th>읍면동명</th>\n",
       "      <th>동리명</th>\n",
       "      <th>생성일자</th>\n",
       "      <th>말소일자</th>\n",
       "    </tr>\n",
       "  </thead>\n",
       "  <tbody>\n",
       "    <tr>\n",
       "      <th>0</th>\n",
       "      <td>11</td>\n",
       "      <td>서울특별시</td>\n",
       "      <td>11000</td>\n",
       "      <td>NaN</td>\n",
       "      <td>1100000000</td>\n",
       "      <td>NaN</td>\n",
       "      <td>NaN</td>\n",
       "      <td>19880423</td>\n",
       "      <td>NaN</td>\n",
       "    </tr>\n",
       "    <tr>\n",
       "      <th>1</th>\n",
       "      <td>11</td>\n",
       "      <td>서울특별시</td>\n",
       "      <td>11110</td>\n",
       "      <td>종로구</td>\n",
       "      <td>1111000000</td>\n",
       "      <td>NaN</td>\n",
       "      <td>NaN</td>\n",
       "      <td>19880423</td>\n",
       "      <td>NaN</td>\n",
       "    </tr>\n",
       "    <tr>\n",
       "      <th>2</th>\n",
       "      <td>11</td>\n",
       "      <td>서울특별시</td>\n",
       "      <td>11110</td>\n",
       "      <td>종로구</td>\n",
       "      <td>1111010100</td>\n",
       "      <td>청운동</td>\n",
       "      <td>NaN</td>\n",
       "      <td>19880423</td>\n",
       "      <td>NaN</td>\n",
       "    </tr>\n",
       "    <tr>\n",
       "      <th>3</th>\n",
       "      <td>11</td>\n",
       "      <td>서울특별시</td>\n",
       "      <td>11110</td>\n",
       "      <td>종로구</td>\n",
       "      <td>1111010200</td>\n",
       "      <td>신교동</td>\n",
       "      <td>NaN</td>\n",
       "      <td>19880423</td>\n",
       "      <td>NaN</td>\n",
       "    </tr>\n",
       "    <tr>\n",
       "      <th>4</th>\n",
       "      <td>11</td>\n",
       "      <td>서울특별시</td>\n",
       "      <td>11110</td>\n",
       "      <td>종로구</td>\n",
       "      <td>1111010300</td>\n",
       "      <td>궁정동</td>\n",
       "      <td>NaN</td>\n",
       "      <td>19880423</td>\n",
       "      <td>NaN</td>\n",
       "    </tr>\n",
       "  </tbody>\n",
       "</table>\n",
       "</div>"
      ],
      "text/plain": [
       "   시도코드    시도명  시군구코드 시군구명       법정동코드 읍면동명  동리명      생성일자  말소일자\n",
       "0    11  서울특별시  11000  NaN  1100000000  NaN  NaN  19880423   NaN\n",
       "1    11  서울특별시  11110  종로구  1111000000  NaN  NaN  19880423   NaN\n",
       "2    11  서울특별시  11110  종로구  1111010100  청운동  NaN  19880423   NaN\n",
       "3    11  서울특별시  11110  종로구  1111010200  신교동  NaN  19880423   NaN\n",
       "4    11  서울특별시  11110  종로구  1111010300  궁정동  NaN  19880423   NaN"
      ]
     },
     "execution_count": 2,
     "metadata": {},
     "output_type": "execute_result"
    }
   ],
   "source": [
    "# 법정동코드 목록\n",
    "code = pdr.code_list()\n",
    "code.head()"
   ]
  },
  {
   "cell_type": "code",
   "execution_count": 3,
   "metadata": {
    "ExecuteTime": {
     "end_time": "2021-11-12T05:21:50.706756Z",
     "start_time": "2021-11-12T05:21:50.149762Z"
    },
    "scrolled": false
   },
   "outputs": [
    {
     "name": "stderr",
     "output_type": "stream",
     "text": [
      "[INFO] 아파트 매매 조회 서비스 정상 - (00) NORMAL SERVICE.\n",
      "[INFO] 아파트 전월세 조회 서비스 정상 - (00) NORMAL SERVICE.\n",
      "[INFO] 오피스텔 매매 조회 서비스 정상 - (00) NORMAL SERVICE.\n",
      "[INFO] 오피스텔 전월세 조회 서비스 정상 - (00) NORMAL SERVICE.\n",
      "[INFO] 단독다가구 매매 조회 서비스 정상 - (00) NORMAL SERVICE.\n",
      "[INFO] 단독다가구 전월세 조회 서비스 정상 - (00) NORMAL SERVICE.\n",
      "[INFO] 연립다세대 매매 조회 서비스 정상 - (00) NORMAL SERVICE.\n",
      "[INFO] 연립다세대 전월세 조회 서비스 정상 - (00) NORMAL SERVICE.\n",
      "[INFO] 상업업무용 매매 조회 서비스 정상 - (00) NORMAL SERVICE.\n",
      "[INFO] 토지 매매 조회 서비스 정상 - (00) NORMAL SERVICE.\n",
      "[INFO] 분양입주권 매매 조회 서비스 정상 - (00) NORMAL SERVICE.\n"
     ]
    }
   ],
   "source": [
    "# 공공 데이터 포털 Open API 서비스키\n",
    "serviceKey = OpenAPI['molit']\n",
    "self = pdr.Transaction(serviceKey, debug=True)"
   ]
  },
  {
   "cell_type": "code",
   "execution_count": null,
   "metadata": {},
   "outputs": [],
   "source": []
  },
  {
   "cell_type": "code",
   "execution_count": null,
   "metadata": {
    "ExecuteTime": {
     "end_time": "2021-11-12T05:05:55.879056Z",
     "start_time": "2021-11-12T05:05:55.863060Z"
    },
    "scrolled": true
   },
   "outputs": [],
   "source": [
    "prod=\"아파트\"\n",
    "trans=\"매매\"\n",
    "sigunguCode=\"41135\"\n",
    "yearMonth=\"202101\""
   ]
  },
  {
   "cell_type": "code",
   "execution_count": null,
   "metadata": {
    "ExecuteTime": {
     "end_time": "2021-11-12T05:06:00.488482Z",
     "start_time": "2021-11-12T05:05:56.630310Z"
    },
    "scrolled": true
   },
   "outputs": [],
   "source": [
    "df = self.read_data(prod, trans, sigunguCode, yearMonth)\n",
    "df"
   ]
  },
  {
   "cell_type": "code",
   "execution_count": null,
   "metadata": {
    "ExecuteTime": {
     "start_time": "2021-11-12T05:05:57.221Z"
    },
    "scrolled": true
   },
   "outputs": [],
   "source": [
    "df = self.collect_data(prod, trans, sigunguCode, \"202101\", \"202103\")\n",
    "df"
   ]
  },
  {
   "cell_type": "markdown",
   "metadata": {},
   "source": [
    "## Building Class"
   ]
  },
  {
   "cell_type": "code",
   "execution_count": 4,
   "metadata": {
    "ExecuteTime": {
     "end_time": "2021-11-12T05:21:55.939514Z",
     "start_time": "2021-11-12T05:21:54.833144Z"
    }
   },
   "outputs": [
    {
     "name": "stderr",
     "output_type": "stream",
     "text": [
      "[INFO] 기본개요 조회 서비스 정상 - (00) NORMAL SERVICE.\n",
      "[INFO] 총괄표제부 조회 서비스 정상 - (00) NORMAL SERVICE.\n",
      "[INFO] 표제부 조회 서비스 정상 - (00) NORMAL SERVICE.\n",
      "[INFO] 층별개요 조회 서비스 정상 - (00) NORMAL SERVICE.\n",
      "[INFO] 부속지번 조회 서비스 정상 - (00) NORMAL SERVICE.\n",
      "[INFO] 전유공용면적 조회 서비스 정상 - (00) NORMAL SERVICE.\n",
      "[INFO] 오수정화시설 조회 서비스 정상 - (00) NORMAL SERVICE.\n",
      "[INFO] 주택가격 조회 서비스 정상 - (00) NORMAL SERVICE.\n",
      "[INFO] 전유부 조회 서비스 정상 - (00) NORMAL SERVICE.\n",
      "[INFO] 지역지구구역 조회 서비스 정상 - (00) NORMAL SERVICE.\n"
     ]
    }
   ],
   "source": [
    "# 공공 데이터 포털 Open API 서비스키\n",
    "serviceKey = OpenAPI['molit']\n",
    "self = pdr.Building(serviceKey, debug=True)"
   ]
  },
  {
   "cell_type": "code",
   "execution_count": 7,
   "metadata": {
    "ExecuteTime": {
     "end_time": "2021-11-12T05:30:44.195172Z",
     "start_time": "2021-11-12T05:30:44.184205Z"
    }
   },
   "outputs": [
    {
     "data": {
      "text/plain": [
       "['sigunguCd',\n",
       " 'bjdongCd',\n",
       " 'platGbCd',\n",
       " 'bun',\n",
       " 'ji',\n",
       " 'startDate',\n",
       " 'endDate',\n",
       " 'dongNm',\n",
       " 'hoNm']"
      ]
     },
     "execution_count": 7,
     "metadata": {},
     "output_type": "execute_result"
    }
   ],
   "source": [
    "self.metaDict['전유공용면적']['parameters']"
   ]
  },
  {
   "cell_type": "code",
   "execution_count": 5,
   "metadata": {
    "ExecuteTime": {
     "end_time": "2021-11-12T05:22:01.868757Z",
     "start_time": "2021-11-12T05:22:01.746814Z"
    },
    "scrolled": true
   },
   "outputs": [
    {
     "data": {
      "text/html": [
       "<div>\n",
       "<style scoped>\n",
       "    .dataframe tbody tr th:only-of-type {\n",
       "        vertical-align: middle;\n",
       "    }\n",
       "\n",
       "    .dataframe tbody tr th {\n",
       "        vertical-align: top;\n",
       "    }\n",
       "\n",
       "    .dataframe thead th {\n",
       "        text-align: right;\n",
       "    }\n",
       "</style>\n",
       "<table border=\"1\" class=\"dataframe\">\n",
       "  <thead>\n",
       "    <tr style=\"text-align: right;\">\n",
       "      <th></th>\n",
       "      <th>법정동코드</th>\n",
       "      <th>건물명</th>\n",
       "      <th>블록</th>\n",
       "      <th>번</th>\n",
       "      <th>외필지수</th>\n",
       "      <th>생성일자</th>\n",
       "      <th>구역코드</th>\n",
       "      <th>구역코드명</th>\n",
       "      <th>지</th>\n",
       "      <th>지구코드</th>\n",
       "      <th>지구코드명</th>\n",
       "      <th>지역코드</th>\n",
       "      <th>지역코드명</th>\n",
       "      <th>로트</th>\n",
       "      <th>관리건축물대장PK</th>\n",
       "      <th>관리상위건축물대장PK</th>\n",
       "      <th>새주소법정동코드</th>\n",
       "      <th>새주소본번</th>\n",
       "      <th>새주소도로코드</th>\n",
       "      <th>새주소부번</th>\n",
       "      <th>새주소지상지하코드</th>\n",
       "      <th>도로명대지위치</th>\n",
       "      <th>대지구분코드</th>\n",
       "      <th>대지위치</th>\n",
       "      <th>대장구분코드</th>\n",
       "      <th>대장구분코드명</th>\n",
       "      <th>대장종류코드</th>\n",
       "      <th>대장종류코드명</th>\n",
       "      <th>순번</th>\n",
       "      <th>시군구코드</th>\n",
       "      <th>특수지명</th>\n",
       "    </tr>\n",
       "  </thead>\n",
       "  <tbody>\n",
       "    <tr>\n",
       "      <th>0</th>\n",
       "      <td>11000</td>\n",
       "      <td></td>\n",
       "      <td></td>\n",
       "      <td>0560</td>\n",
       "      <td>0</td>\n",
       "      <td>20190530</td>\n",
       "      <td>301</td>\n",
       "      <td>제1종지구단위계획구역</td>\n",
       "      <td>0003</td>\n",
       "      <td></td>\n",
       "      <td></td>\n",
       "      <td></td>\n",
       "      <td></td>\n",
       "      <td></td>\n",
       "      <td>41135-100202741</td>\n",
       "      <td></td>\n",
       "      <td>11001</td>\n",
       "      <td>34.0</td>\n",
       "      <td>411354340524</td>\n",
       "      <td>0.0</td>\n",
       "      <td>0</td>\n",
       "      <td>경기도 성남시 분당구 판교역로2번길 34</td>\n",
       "      <td>0</td>\n",
       "      <td>경기도 성남시 분당구 백현동 560-3번지</td>\n",
       "      <td>1</td>\n",
       "      <td>일반</td>\n",
       "      <td>2</td>\n",
       "      <td>일반건축물</td>\n",
       "      <td>1</td>\n",
       "      <td>41135</td>\n",
       "      <td></td>\n",
       "    </tr>\n",
       "  </tbody>\n",
       "</table>\n",
       "</div>"
      ],
      "text/plain": [
       "   법정동코드 건물명 블록     번 외필지수      생성일자 구역코드        구역코드명     지 지구코드 지구코드명 지역코드 지역코드명 로트  \\\n",
       "0  11000         0560    0  20190530  301  제1종지구단위계획구역  0003                            \n",
       "\n",
       "         관리건축물대장PK 관리상위건축물대장PK 새주소법정동코드 새주소본번       새주소도로코드 새주소부번 새주소지상지하코드  \\\n",
       "0  41135-100202741                11001  34.0  411354340524   0.0         0   \n",
       "\n",
       "                  도로명대지위치 대지구분코드                     대지위치 대장구분코드 대장구분코드명 대장종류코드 대장종류코드명 순번  시군구코드  \\\n",
       "0  경기도 성남시 분당구 판교역로2번길 34      0  경기도 성남시 분당구 백현동 560-3번지      1      일반      2   일반건축물  1  41135   \n",
       "\n",
       "  특수지명  \n",
       "0       "
      ]
     },
     "execution_count": 5,
     "metadata": {},
     "output_type": "execute_result"
    }
   ],
   "source": [
    "category = \"기본개요\"\n",
    "\n",
    "sigunguCd = \"41135\"\n",
    "bjdongCd = \"11000\"\n",
    "bun = \"0560\"\n",
    "ji = \"0003\"\n",
    "\n",
    "df = self.read_data(category, sigunguCd=sigunguCd, bjdongCd=bjdongCd, bun=bun, ji=ji)\n",
    "df"
   ]
  },
  {
   "cell_type": "markdown",
   "metadata": {},
   "source": [
    "## Transaction Class"
   ]
  },
  {
   "cell_type": "code",
   "execution_count": null,
   "metadata": {
    "ExecuteTime": {
     "end_time": "2021-11-11T09:00:03.387370Z",
     "start_time": "2021-11-11T08:59:52.062029Z"
    },
    "scrolled": true
   },
   "outputs": [],
   "source": [
    "# 11종 데이터 조회 테스트\n",
    "sigunguCode = \"11680\"\n",
    "yearMonth = \"202110\"\n",
    "\n",
    "df_list = []\n",
    "for prod in self.metaDict.keys():\n",
    "    for trans in self.metaDict[prod].keys():\n",
    "        print()\n",
    "        print(\"▶\", prod, trans)\n",
    "        print()\n",
    "        df= self.read_data(prod, trans, sigunguCode, yearMonth)\n",
    "        df_list.append(df)\n",
    "        print(df.head(1))"
   ]
  },
  {
   "cell_type": "code",
   "execution_count": null,
   "metadata": {
    "ExecuteTime": {
     "end_time": "2021-11-11T05:25:12.528860Z",
     "start_time": "2021-11-11T05:25:12.511890Z"
    },
    "scrolled": true
   },
   "outputs": [],
   "source": [
    "prod = \"아파트\"\n",
    "trans = \"매매\"\n",
    "sigunguCode = \"11680\"\n",
    "yearMonth = \"202110\"\n",
    "startYearMonth = \"202101\"\n",
    "endYearMonth = \"202103\""
   ]
  },
  {
   "cell_type": "code",
   "execution_count": null,
   "metadata": {
    "ExecuteTime": {
     "end_time": "2021-11-11T05:25:16.246768Z",
     "start_time": "2021-11-11T05:25:13.615458Z"
    }
   },
   "outputs": [],
   "source": [
    "df = self.read_data(prod, trans, sigunguCode, yearMonth)\n",
    "df"
   ]
  },
  {
   "cell_type": "code",
   "execution_count": null,
   "metadata": {
    "ExecuteTime": {
     "end_time": "2021-11-11T05:25:31.594440Z",
     "start_time": "2021-11-11T05:25:23.325812Z"
    },
    "scrolled": true
   },
   "outputs": [],
   "source": [
    "df_sum = self.collect_data(prod, trans, sigunguCode, startYearMonth, endYearMonth)\n",
    "df_sum"
   ]
  },
  {
   "cell_type": "markdown",
   "metadata": {},
   "source": [
    "## 컬럼 리스트 추출"
   ]
  },
  {
   "cell_type": "code",
   "execution_count": null,
   "metadata": {
    "ExecuteTime": {
     "end_time": "2021-11-10T08:30:22.486468Z",
     "start_time": "2021-11-10T08:30:15.941628Z"
    },
    "scrolled": true
   },
   "outputs": [],
   "source": [
    "# LAWD_CD=11680\n",
    "# DEAL_YMD=202110\n",
    "\n",
    "\n",
    "# for prod in ['아파트','오피스텔','단독다가구','연립다세대','상업업무용','분양입주권','토지']:\n",
    "#     for trans in ['매매', '전월세']:\n",
    "#         try:\n",
    "#             print()\n",
    "#             print(f\">> {prod} {trans}\")\n",
    "#             print()\n",
    "#             service_url = self.metaDict[prod][trans]['url']\n",
    "\n",
    "#             # URL\n",
    "#             url=f\"\"\"\\\n",
    "# {service_url}\\\n",
    "# &LAWD_CD={str(LAWD_CD)}\\\n",
    "# &DEAL_YMD={str(DEAL_YMD)}\\\n",
    "# &numOfRows=99999\\\n",
    "#             \"\"\"\n",
    "\n",
    "#             result = requests.get(url, verify=False)\n",
    "#             xmlsoup = BeautifulSoup(result.text, \"lxml-xml\")\n",
    "#             item = xmlsoup.find(\"item\")\n",
    "\n",
    "#             col_list = []\n",
    "#             for i in item:\n",
    "#                 col_list.append(i.name)\n",
    "#             for col in col_list: \n",
    "#                 print(f\"'{col}'\", end=',')\n",
    "                \n",
    "#         except:\n",
    "#             print(\"Error\")\n",
    "#             pass"
   ]
  },
  {
   "cell_type": "markdown",
   "metadata": {},
   "source": [
    "### Features\n",
    "\n",
    "- 공통\n",
    "\n",
    "    - 로깅 기능\n",
    "        - 세션 초기화 시 `debug` 인자 추가\n",
    "            - False(Default): 오류 레벨만 출력\n",
    "            - True: 모든 레벨 출력\n",
    "        - OPEN API 에러 코드 출력\n",
    "\n",
    "    - Air Korea Open API 모듈 제거\n",
    "    \n",
    "    - 법정동코드 테이블 조회 함수 추가\n",
    "\n",
    "- 부동산 실거래가\n",
    "\n",
    "    - 데이터 조회 메서드 일원화\n",
    "        - molit.read_data('아파트', '매매', '11680', '202111')\n",
    "            - 서비스별 End-point 및 컬럼 매핑 딕셔너리 추가\n",
    "    - 데이터 수집 메서드 신규 메서드 추가\n",
    "        - molit.collect_data('아파트', '매매', '11680', '202101', '202103')\n",
    "\n",
    "- 건축물대장\n",
    "    \n",
    "    - 데이터 조회 메서드 일원화\n",
    "        - molit.read_data(category, sigunguCd=sigunguCd, bjdongCd=bjdongCd, bun=bun, ji=ji)"
   ]
  }
 ],
 "metadata": {
  "hide_input": false,
  "kernelspec": {
   "display_name": "Python 3",
   "language": "python",
   "name": "python3"
  },
  "language_info": {
   "codemirror_mode": {
    "name": "ipython",
    "version": 3
   },
   "file_extension": ".py",
   "mimetype": "text/x-python",
   "name": "python",
   "nbconvert_exporter": "python",
   "pygments_lexer": "ipython3",
   "version": "3.8.5"
  },
  "varInspector": {
   "cols": {
    "lenName": 16,
    "lenType": 16,
    "lenVar": 40
   },
   "kernels_config": {
    "python": {
     "delete_cmd_postfix": "",
     "delete_cmd_prefix": "del ",
     "library": "var_list.py",
     "varRefreshCmd": "print(var_dic_list())"
    },
    "r": {
     "delete_cmd_postfix": ") ",
     "delete_cmd_prefix": "rm(",
     "library": "var_list.r",
     "varRefreshCmd": "cat(var_dic_list()) "
    }
   },
   "types_to_exclude": [
    "module",
    "function",
    "builtin_function_or_method",
    "instance",
    "_Feature"
   ],
   "window_display": false
  }
 },
 "nbformat": 4,
 "nbformat_minor": 4
}
